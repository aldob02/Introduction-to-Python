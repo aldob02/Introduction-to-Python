{
 "cells": [
  {
   "cell_type": "markdown",
   "metadata": {},
   "source": [
    "# 1-7.2 Intro Python Practice\n",
    "## `while()` loops & increments\n",
    "<font size=\"5\" color=\"#00A0B2\"  face=\"verdana\"> <B>Student will be able to</B></font>\n",
    "- create forever loops using `while` and `break`\n",
    "- use incrementing variables in a while loop\n",
    "- control while loops using Boolean operators"
   ]
  },
  {
   "cell_type": "code",
   "execution_count": 12,
   "metadata": {},
   "outputs": [
    {
     "name": "stdout",
     "output_type": "stream",
     "text": [
      "Enter a number: 4\n",
      "Enter a number: 4\n",
      "Enter a number: 5\n",
      "Enter a number: 6\n",
      "Enter a number: g\n",
      "19\n"
     ]
    }
   ],
   "source": [
    "# [ ] use a \"forever\" while loop to get user input of integers to add to sum, \n",
    "# until a non-digit is entered, then break the loop and print sum\n",
    "sum = 0\n",
    "loop == True\n",
    "\n",
    "while loop == True:\n",
    "    x = input(\"Enter a number: \")\n",
    "    if x.isnumeric() == True:\n",
    "        x = int(x)\n",
    "        sum = sum + x\n",
    "        continue\n",
    "    else:\n",
    "        print(sum)\n",
    "        break"
   ]
  },
  {
   "cell_type": "code",
   "execution_count": 4,
   "metadata": {},
   "outputs": [
    {
     "name": "stdout",
     "output_type": "stream",
     "text": [
      "Enter a color from the rainbow: blue\n",
      "Enter a color from the rainbow: yellow\n",
      "Enter a color from the rainbow: green\n",
      "Enter a color from the rainbow: red\n",
      "Enter a color from the rainbow: orange\n",
      "Enter a color from the rainbow: indigo\n",
      "Enter a color from the rainbow: black\n",
      "Enter a color from the rainbow: white\n",
      "Enter a color from the rainbow: purple\n",
      "Enter a color from the rainbow: brown\n"
     ]
    }
   ],
   "source": [
    "# [ ] use a while True loop (forever loop) to give 4 chances for input of a correct color in a rainbow\n",
    "# rainbow = \"red orange yellow green blue indigo violet\"\n",
    "rainbow = \"red orange yellow green blue indigo violet\"\n",
    "counter = 0\n",
    "while counter < 4:\n",
    "    color = input(\"Enter a color from the rainbow: \")\n",
    "    if color not in rainbow:\n",
    "        counter += 1"
   ]
  },
  {
   "cell_type": "code",
   "execution_count": 12,
   "metadata": {},
   "outputs": [
    {
     "name": "stdout",
     "output_type": "stream",
     "text": [
      "Enter a name of a book: james and the giant peach\n",
      "Enter a name of a book: diary of a wimpy kid\n",
      "Enter a name of a book: Charlie And The Chocolate Factory\n"
     ]
    }
   ],
   "source": [
    "# [ ] Get input for a book title, keep looping while input is Not in title format (title is every word capitalized)\n",
    "loop = True\n",
    "while loop == True:\n",
    "    title = input(\"Enter a name of a book: \")\n",
    "    if title.istitle() == False:\n",
    "        continue\n",
    "    else:\n",
    "        break"
   ]
  },
  {
   "cell_type": "code",
   "execution_count": 8,
   "metadata": {},
   "outputs": [
    {
     "name": "stdout",
     "output_type": "stream",
     "text": [
      "What is 1 + 1? 3\n",
      "What is 1 + 1? 1\n",
      "What is 1 + 1? 2\n",
      "Correct!\n"
     ]
    }
   ],
   "source": [
    "# [ ] create a math quiz question and ask for the solution until the input is correct\n",
    "\n",
    "ans = 0\n",
    "while ans != 2:\n",
    "    ans = int(input(\"What is 1 + 1? \"))\n",
    "else:\n",
    "    print(\"Correct!\")"
   ]
  },
  {
   "cell_type": "markdown",
   "metadata": {},
   "source": [
    "### Fix the Error"
   ]
  },
  {
   "cell_type": "code",
   "execution_count": 6,
   "metadata": {},
   "outputs": [
    {
     "name": "stdout",
     "output_type": "stream",
     "text": [
      "enter tickets remaining (0 to quit): 3\n",
      "you win!\n",
      "enter tickets remaining (0 to quit): 2\n",
      "sorry, not a winner.\n",
      "enter tickets remaining (0 to quit): 9\n",
      "you win!\n",
      "enter tickets remaining (0 to quit): 10\n",
      "sorry, not a winner.\n",
      "enter tickets remaining (0 to quit): 15\n",
      "you win!\n",
      "enter tickets remaining (0 to quit): 0\n",
      "Game ended\n"
     ]
    }
   ],
   "source": [
    "# [ ] review the code, run, fix the error\n",
    "tickets = int(input(\"enter tickets remaining (0 to quit): \"))\n",
    "\n",
    "while tickets > 0:\n",
    "        # if tickets are multiple of 3 then \"winner\"\n",
    "    if int(tickets/3) == tickets/3:\n",
    "        print(\"you win!\")\n",
    "    else:\n",
    "        print(\"sorry, not a winner.\")\n",
    "    tickets = int(input(\"enter tickets remaining (0 to quit): \"))\n",
    "\n",
    "print(\"Game ended\")\n",
    "    \n"
   ]
  },
  {
   "cell_type": "markdown",
   "metadata": {},
   "source": [
    "### create a function: quiz_item()  that asks a question and tests if input is correct  \n",
    "- quiz_item()has 2 parameter **strings**: question and solution  \n",
    "- shows question, gets answer input  \n",
    "- returns True if `answer == solution` or continues to ask question until correct answer is provided  \n",
    "- use a while loop\n",
    "\n",
    "create 2 or more quiz questions that call quiz_item()  \n",
    "**Hint**: provide multiple choice or T/F answers"
   ]
  },
  {
   "cell_type": "code",
   "execution_count": 2,
   "metadata": {},
   "outputs": [
    {
     "name": "stdout",
     "output_type": "stream",
     "text": [
      "What color is a banana?\n",
      "green\n",
      "Incorrect\n",
      "\n",
      "What color is a banana?\n",
      "yellow\n",
      "Correct\n",
      "\n",
      "What is 1+1?\n",
      "4\n",
      "Incorrect\n",
      "\n",
      "What is 1+1?\n",
      "2\n",
      "Correct\n",
      "\n"
     ]
    }
   ],
   "source": [
    "# Create quiz_item() and 2 or more quiz questions that call quiz_item()\n",
    "def quiz_item(question,solution):\n",
    "    loop = True\n",
    "    while loop == True:\n",
    "        answer = input(question+\"\\n\")\n",
    "        if answer.capitalize() == solution:\n",
    "            print(\"Correct\\n\")\n",
    "            break\n",
    "        else:\n",
    "            print(\"Incorrect\\n\")\n",
    "            continue\n",
    "    \n",
    "question = \"What color is a banana?\"\n",
    "solution = \"Yellow\"\n",
    "\n",
    "quiz_item(question, solution)\n",
    "\n",
    "question = \"What is 1+1?\"\n",
    "solution = \"2\"\n",
    "\n",
    "quiz_item(question, solution)"
   ]
  },
  {
   "cell_type": "markdown",
   "metadata": {
    "collapsed": true
   },
   "source": [
    "[Terms of use](http://go.microsoft.com/fwlink/?LinkID=206977) &nbsp; [Privacy & cookies](https://go.microsoft.com/fwlink/?LinkId=521839) &nbsp; © 2017 Microsoft"
   ]
  }
 ],
 "metadata": {
  "anaconda-cloud": {},
  "kernelspec": {
   "display_name": "Python 3",
   "language": "python",
   "name": "python3"
  },
  "language_info": {
   "codemirror_mode": {
    "name": "ipython",
    "version": 3
   },
   "file_extension": ".py",
   "mimetype": "text/x-python",
   "name": "python",
   "nbconvert_exporter": "python",
   "pygments_lexer": "ipython3",
   "version": "3.8.3"
  }
 },
 "nbformat": 4,
 "nbformat_minor": 1
}
