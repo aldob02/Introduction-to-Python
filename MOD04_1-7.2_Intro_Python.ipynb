{
 "cells": [
  {
   "cell_type": "markdown",
   "metadata": {},
   "source": [
    "# 1-7.2 Intro Python\n",
    "## `while()` loops & increments\n",
    "- while `True`  or forever loops\n",
    "- incrementing in loops\n",
    "- **Boolean operators in while loops**\n",
    "\n",
    "\n",
    "-----  \n",
    "\n",
    "><font size=\"5\" color=\"#00A0B2\"  face=\"verdana\"> <B>Student will be able to</B></font>\n",
    "- create forever loops using `while` and `break`\n",
    "- use incrementing variables in a while loop\n",
    "- **control while loops using Boolean operators**"
   ]
  },
  {
   "cell_type": "markdown",
   "metadata": {
    "collapsed": true
   },
   "source": [
    "# &nbsp;\n",
    "<font size=\"6\" color=\"#00A0B2\"  face=\"verdana\"> <B>Concept</B></font>\n",
    "## `while` with Boolean comparison\n",
    "[![view video](https://iajupyterprodblobs.blob.core.windows.net/imagecontainer/common/play_video.png)]( http://edxinteractivepage.blob.core.windows.net/edxpages/f7cff1a7-5601-48a1-95a6-fd1fdfabd20e.html?details=[{\"src\":\"http://jupyternootbookwams.streaming.mediaservices.windows.net/f540955e-543b-48f0-8201-3513b0beeed9/Unit1_Section7.2-while-boolean-comp.ism/manifest\",\"type\":\"application/vnd.ms-sstr+xml\"}],[{\"src\":\"http://jupyternootbookwams.streaming.mediaservices.windows.net/f540955e-543b-48f0-8201-3513b0beeed9/Unit1_Section7.2-while-boolean-comp.vtt\",\"srclang\":\"en\",\"kind\":\"subtitles\",\"label\":\"english\"}])\n",
    "## `while` with Boolean comparison operator\n",
    "### `while x < 5:`\n",
    "with increment we used  **`break`** when count becomes greater than some number  \n",
    "\n",
    "The same result can be achieved by using **`while x < 5:`**"
   ]
  },
  {
   "cell_type": "markdown",
   "metadata": {},
   "source": [
    "# &nbsp;\n",
    "<font size=\"6\" color=\"#00A0B2\"  face=\"verdana\"> <B>Examples</B></font>\n",
    "  \n"
   ]
  },
  {
   "cell_type": "code",
   "execution_count": 1,
   "metadata": {},
   "outputs": [
    {
     "name": "stdout",
     "output_type": "stream",
     "text": [
      "4 !\n",
      "3 !\n",
      "2 !\n",
      "1 !\n",
      "0 !\n",
      "\n",
      "IGNITION!\n"
     ]
    }
   ],
   "source": [
    "# review and run GREET COUNT\n",
    "greet_count = 5\n",
    "\n",
    "# loop while count is greater than 0\n",
    "while greet_count > 0:          # loop ends at 0\n",
    "    greet_count -= 1            # decrement of greet value\n",
    "    print(greet_count, \"!\")\n",
    "    \n",
    "print(\"\\nIGNITION!\")"
   ]
  },
  {
   "cell_type": "code",
   "execution_count": 2,
   "metadata": {},
   "outputs": [
    {
     "name": "stdout",
     "output_type": "stream",
     "text": [
      "Seats:  0\n",
      "Seats:  1\n",
      "Seats:  2\n",
      "Seats:  3\n",
      "Seats:  4\n"
     ]
    }
   ],
   "source": [
    "seat_count=0\n",
    "while seat_count <=4:             # loop is going to end at 4\n",
    "    print(\"Seats: \", seat_count)\n",
    "    seat_count=seat_count + 1     # increment of seat value"
   ]
  },
  {
   "cell_type": "markdown",
   "metadata": {},
   "source": [
    "# &nbsp;\n",
    "<font size=\"6\" color=\"#B24C00\"  face=\"verdana\"> <B>Task 1</B></font>\n",
    "## `while` with comparison operator \n",
    "### Program: Animal Names\n",
    "- Use **`while`** to get the user input, animal_name, of 4 animals \n",
    "  - use a counter, num_animals, in the while loop condition\n",
    "  - append the names to a string variable, all_animals\n",
    "  - User can exit early by typing \"exit\" (check if animal_name is \"exit\" and break)\n",
    "- when the loop finishes, print the names of all_animals\n",
    "\n",
    "-bonus: print \"no animals\" if animal_name is empty after exiting the loop\n",
    "\n",
    "**Tip:** Think about Sequence and variables that need to be initialized before the while loop"
   ]
  },
  {
   "cell_type": "code",
   "execution_count": 6,
   "metadata": {},
   "outputs": [
    {
     "name": "stdout",
     "output_type": "stream",
     "text": [
      "bird\n",
      "Note: exit early by typing \"exit\"\n",
      "\n",
      "donkey\n",
      "Note: exit early by typing \"exit\"\n",
      "\n",
      "rabbit\n",
      "Note: exit early by typing \"exit\"\n",
      "\n",
      "exit\n",
      "Total No:\t 3 \n",
      "Number of animal names:\t 3\n"
     ]
    }
   ],
   "source": [
    "# [ ] Create the Animal Names program, run tests\n",
    "\n",
    "num_animals=0\n",
    "while num_animals<=4:\n",
    "    animal_name=input()\n",
    "    if animal_name.lower().startswith(\"exit\"):\n",
    "        break \n",
    "    elif animal_name ==\"\":\n",
    "        print(\"no animals\")\n",
    "        continue\n",
    "    \n",
    "    num_animals +=1\n",
    "    all_animals = num_animals\n",
    "    print('Note: exit early by typing \"exit\"')\n",
    "    print()\n",
    "print(\"Total No:\\t\", num_animals,\"\\nNumber of animal names:\\t\", all_animals)"
   ]
  },
  {
   "cell_type": "code",
   "execution_count": 4,
   "metadata": {},
   "outputs": [
    {
     "name": "stdout",
     "output_type": "stream",
     "text": [
      "dog\n",
      "Note: exit early by typing \"exit\"\n",
      "\n",
      "cat\n",
      "Note: exit early by typing \"exit\"\n",
      "\n",
      "horse\n",
      "Note: exit early by typing \"exit\"\n",
      "\n",
      "exit\n",
      "Total No:\t 3 \n",
      "Animal'names:\t dog cat horse \n"
     ]
    }
   ],
   "source": [
    "# how to print all the animal's names inputed\n",
    "num_animals=0\n",
    "ani_names = ''   # this is like storage coming from input\n",
    "while num_animals<4:\n",
    "    animal_name=input()\n",
    "    if animal_name.lower().startswith(\"exit\"):  #break the loop if the word exit is typed\n",
    "        break \n",
    "    elif animal_name ==\"\":   \n",
    "        print(\"no animals\")\n",
    "        continue\n",
    "    ani_names += animal_name + \" \"   # the \" \" is the spacing b/w animals\n",
    "    num_animals +=1                             #counts every entry\n",
    "    print('Note: exit early by typing \"exit\"')\n",
    "    print()\n",
    "print(\"Total No:\\t\", num_animals,\"\\nAnimal's names:\\t\", ani_names)"
   ]
  },
  {
   "cell_type": "markdown",
   "metadata": {
    "collapsed": true
   },
   "source": [
    "# &nbsp;\n",
    "<font size=\"6\" color=\"#00A0B2\"  face=\"verdana\"> <B>Concept</B></font>\n",
    "## `while` Boolean string tests\n",
    "[![view video](https://iajupyterprodblobs.blob.core.windows.net/imagecontainer/common/play_video.png)]( http://edxinteractivepage.blob.core.windows.net/edxpages/f7cff1a7-5601-48a1-95a6-fd1fdfabd20e.html?details=[{\"src\":\"http://jupyternootbookwams.streaming.mediaservices.windows.net/26728191-873d-42ba-b6b5-48b396a8f42f/Unit1_Section7.2-while-boolean-string.ism/manifest\",\"type\":\"application/vnd.ms-sstr+xml\"}],[{\"src\":\"http://jupyternootbookwams.streaming.mediaservices.windows.net/26728191-873d-42ba-b6b5-48b396a8f42f/Unit1_Section7.2-while-boolean-string.vtt\",\"srclang\":\"en\",\"kind\":\"subtitles\",\"label\":\"english\"}])\n",
    "## Using `while` with a Boolean String Tests\n",
    "A while loop can be controlled by Boolean strings such as `while name.isalpha() == False:`"
   ]
  },
  {
   "cell_type": "markdown",
   "metadata": {},
   "source": [
    "# &nbsp;\n",
    "<font size=\"6\" color=\"#00A0B2\"  face=\"verdana\"> <B>Example</B></font>"
   ]
  },
  {
   "cell_type": "code",
   "execution_count": 8,
   "metadata": {},
   "outputs": [
    {
     "name": "stdout",
     "output_type": "stream",
     "text": [
      "enter student's first (Letters only, No spaces): aldo b\n",
      "enter student's first (Letters only, No spaces): 1245\n",
      "enter student's first (Letters only, No spaces): Aldo\n",
      "\n",
      "Aldo has been entered as first name\n"
     ]
    }
   ],
   "source": [
    "# review and run example that loops until a valid first name format is entered\n",
    "student_fname = \"\"\n",
    "while student_fname.isalpha() == False:     # check if characters are alphabet.If input is false, then it will run again  \n",
    "    student_fname = input(\"enter student\\'s first (Letters only, No spaces): \")\n",
    "print(\"\\n\" + student_fname.title(),\"has been entered as first name\")"
   ]
  },
  {
   "cell_type": "code",
   "execution_count": 9,
   "metadata": {},
   "outputs": [
    {
     "name": "stdout",
     "output_type": "stream",
     "text": [
      "NOT EXCEPTED FORMAT: aldo is learning python\n",
      "NOT EXCEPTED FORMAT: \n",
      "NOT EXCEPTED FORMAT: ALDO IS LEARNING PYTHON\n",
      "\n",
      "Message:\t\"ALDO IS LEARNING PYTHON\"\treceived\n"
     ]
    }
   ],
   "source": [
    "message = \"\"\n",
    "while message.isupper() != True: # check if inputed letters are upper case\n",
    "    message=input(\"NOT EXCEPTED FORMAT: \")\n",
    "print('\\nMessage:\\t\"'+ message +'\"\\treceived')\n",
    "\n",
    "    "
   ]
  },
  {
   "cell_type": "markdown",
   "metadata": {},
   "source": [
    "# &nbsp;\n",
    "<font size=\"6\" color=\"#B24C00\"  face=\"verdana\"> <B>Task 2</B></font>\n",
    "## Using `while` with a Boolean String\n",
    "### Program: Long Number\n",
    "#### Create variables\n",
    "- **`int_num`** and get user input **string** of only digits  \n",
    "- **`long_num`** and initialize it as an empty string  \n",
    "\n",
    "#### Create a while loop that runs as long as the input is all digits  \n",
    "\n",
    "#### Inside the while loop   \n",
    "- add **`int_num`** to the end of **`long_num`**\n",
    "- get user input for **`int_num`** again (*inside while loop this time*)  \n",
    "\n",
    "#### After the loop exits \n",
    "- print the value of **`long_num`**   "
   ]
  },
  {
   "cell_type": "code",
   "execution_count": null,
   "metadata": {},
   "outputs": [],
   "source": [
    "# [ ] Create the program, run tests\n",
    "\n",
    "int_num = input()\n",
    "long_num = \"\"\n"
   ]
  },
  {
   "cell_type": "markdown",
   "metadata": {},
   "source": [
    "# &nbsp;\n",
    "<font size=\"6\" color=\"#B24C00\"  face=\"verdana\"> <B>Task 3</B></font>\n",
    "## Fix the Errors\n",
    "This loop never runs\n",
    "### This is a logic error - there is no ErrorMessage, but the code *doesn't work*"
   ]
  },
  {
   "cell_type": "code",
   "execution_count": 2,
   "metadata": {},
   "outputs": [
    {
     "name": "stdout",
     "output_type": "stream",
     "text": [
      "1 x 1 = 1\n",
      "2 x 2 = 4\n",
      "3 x 3 = 9\n",
      "4 x 4 = 16\n",
      "5 x 5 = 25\n"
     ]
    }
   ],
   "source": [
    "# [ ] review the code, run, fix the Logic error\n",
    "count = 1\n",
    "# loop 5 times\n",
    "while count < 6:   # I corrected for > to <\n",
    "    print(count, \"x\", count, \"=\", count*count)\n",
    "    count +=1\n",
    "   "
   ]
  },
  {
   "cell_type": "code",
   "execution_count": 3,
   "metadata": {},
   "outputs": [
    {
     "name": "stdout",
     "output_type": "stream",
     "text": [
      "[1, 2, 3] [1, 2, 3]\n",
      "\n",
      "['a', 2, 3] ['a', 2, 3]\n",
      "\n",
      "hello hello\n",
      "\n",
      "world hello\n"
     ]
    }
   ],
   "source": [
    "# string is \"immutable\" and list is \"mutable\n",
    "list1 = [1, 2, 3]\n",
    "list2 = list1\n",
    "print(list1, list2)\n",
    "print()\n",
    "\n",
    "list1[0] = \"a\"  # a will substitute 1\n",
    "print(list1, list2)   #  when we change list 1 you see list 2 changes\n",
    "print()\n",
    " \n",
    "string1 = \"world\"\n",
    "string1 = \"hello\"\n",
    "string2 = string1\n",
    "print(string1, string2)\n",
    "print()\n",
    "\n",
    "string1 = \"world\"\n",
    "print(string1, string2)    #  string2 keeps the same value   "
   ]
  },
  {
   "cell_type": "code",
   "execution_count": 4,
   "metadata": {},
   "outputs": [
    {
     "name": "stdout",
     "output_type": "stream",
     "text": [
      "1 * 1 = 1\n",
      "2 * 2 = 4\n",
      "3 * 3 = 9\n",
      "4 * 4 = 16\n",
      "5 * 5 = 25\n",
      "1 * 1 = 1\n",
      "2 * 2 = 4\n",
      "3 * 3 = 9\n",
      "4 * 4 = 16\n",
      "5 * 5 = 25\n"
     ]
    }
   ],
   "source": [
    "for count in range(1,6):\n",
    "    print(count, \"*\", count, \"=\", count*count)\n",
    "\n",
    "#these two loops do the same thing, but the one above is cleaner\n",
    "#and the more conventional way to do it in python\n",
    "\n",
    "count = 1\n",
    "while count < 6:\n",
    "    print(count, \"*\", count, \"=\", count*count)\n",
    "    count += 1"
   ]
  },
  {
   "cell_type": "markdown",
   "metadata": {},
   "source": [
    "[Terms of use](http://go.microsoft.com/fwlink/?LinkID=206977) &nbsp; [Privacy & cookies](https://go.microsoft.com/fwlink/?LinkId=521839) &nbsp; © 2017 Microsoft"
   ]
  }
 ],
 "metadata": {
  "anaconda-cloud": {},
  "kernelspec": {
   "display_name": "Python 3",
   "language": "python",
   "name": "python3"
  },
  "language_info": {
   "codemirror_mode": {
    "name": "ipython",
    "version": 3
   },
   "file_extension": ".py",
   "mimetype": "text/x-python",
   "name": "python",
   "nbconvert_exporter": "python",
   "pygments_lexer": "ipython3",
   "version": "3.8.3"
  }
 },
 "nbformat": 4,
 "nbformat_minor": 1
}
