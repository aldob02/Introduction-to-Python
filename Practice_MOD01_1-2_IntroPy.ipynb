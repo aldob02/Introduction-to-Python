{
 "cells": [
  {
   "cell_type": "markdown",
   "metadata": {},
   "source": [
    "# 1-2 Intro Python Practice\n",
    "## Strings: input, testing, formatting\n",
    "<font size=\"5\" color=\"#00A0B2\"  face=\"verdana\"> <B>Student will be able to</B></font>\n",
    "- gather, store and use string `input()`  \n",
    "- format `print()` output  \n",
    "- test string characteristics  \n",
    "- format string output  \n",
    "- search for a string in a string  "
   ]
  },
  {
   "cell_type": "markdown",
   "metadata": {},
   "source": [
    "## input()\n",
    "getting input from users"
   ]
  },
  {
   "cell_type": "code",
   "execution_count": 2,
   "metadata": {
    "scrolled": true
   },
   "outputs": [
    {
     "name": "stdout",
     "output_type": "stream",
     "text": [
      "Time to be reminded: 11 am\n",
      "You will be remined at: 11 am\n"
     ]
    }
   ],
   "source": [
    "# [ ] get user input for a variable named remind_me\n",
    "remind_me=input(\"Time to be reminded: \")\n",
    "\n",
    "# [ ] print the value of the variable remind_me\n",
    "print(\"You will be remined at:\",remind_me)\n"
   ]
  },
  {
   "cell_type": "code",
   "execution_count": 1,
   "metadata": {},
   "outputs": [
    {
     "name": "stdout",
     "output_type": "stream",
     "text": [
      "remember: to practice Python\n",
      "to practice Python\n"
     ]
    }
   ],
   "source": [
    "# use string addition to print \"remember: \" before the remind_me input string\n",
    "remind_me=input(\"remember: \")\n",
    "print(remind_me)\n"
   ]
  },
  {
   "cell_type": "markdown",
   "metadata": {},
   "source": [
    "### Program: Meeting Details\n",
    "#### [ ] get user **input** for meeting subject and time\n",
    "`what is the meeting subject?: plan for graduation`  \n",
    "`what is the meeting time?: 3:00 PM on Monday`  \n",
    "\n",
    "#### [ ] print **output** with descriptive labels  \n",
    "`Meeting Subject: plan for graduation`  \n",
    "`Meeting Time:    3:00 PM on Monday`"
   ]
  },
  {
   "cell_type": "code",
   "execution_count": 3,
   "metadata": {},
   "outputs": [
    {
     "name": "stdout",
     "output_type": "stream",
     "text": [
      "Purpose of meeting: Discuss Test Results\n",
      "Time of the meeting: 11am\n",
      "Meeting Subject: Discuss Test Results \n",
      "Meeting time: 11am\n"
     ]
    }
   ],
   "source": [
    "# [ ] get user input for 2 variables: meeting_subject and meeting_time\n",
    "meeting_subject=input(\"Purpose of meeting: \")\n",
    "meeting_time=input(\"Time of the meeting: \")\n",
    "\n",
    "\n",
    "# [ ] use string addition to print meeting subject and time with labels\n",
    "\n",
    "print(\"Meeting Subject:\", meeting_subject,\"\\nMeeting time:\", meeting_time)\n",
    "\n"
   ]
  },
  {
   "cell_type": "markdown",
   "metadata": {
    "collapsed": true
   },
   "source": [
    "## print() formatting \n",
    "### combining multiple strings separated by commas in the print() function"
   ]
  },
  {
   "cell_type": "code",
   "execution_count": 22,
   "metadata": {},
   "outputs": [
    {
     "name": "stdout",
     "output_type": "stream",
     "text": [
      "Wednesday is in the middle of the week\n"
     ]
    }
   ],
   "source": [
    "# [ ] print the combined strings \"Wednesday is\" and \"in the middle of the week\" \n",
    "\n",
    "print(\"Wednesday is\" + \" in the middle of the week\")"
   ]
  },
  {
   "cell_type": "code",
   "execution_count": 6,
   "metadata": {},
   "outputs": [
    {
     "name": "stdout",
     "output_type": "stream",
     "text": [
      "Time to be reminded: 6pm\n",
      "Remind me at 6pm\n"
     ]
    }
   ],
   "source": [
    "# [ ] print combined string \"Remember to\" and the string variable remind_me from input above\n",
    "\n",
    "remind_me=input(\"Time to be reminded: \")\n",
    "print(\"Remind me at \" + remind_me)"
   ]
  },
  {
   "cell_type": "code",
   "execution_count": null,
   "metadata": {},
   "outputs": [],
   "source": [
    "# [ ] Combine 3 variables from above with multiple strings\n",
    "\n"
   ]
  },
  {
   "cell_type": "markdown",
   "metadata": {
    "collapsed": true
   },
   "source": [
    "### print() quotation marks"
   ]
  },
  {
   "cell_type": "code",
   "execution_count": 1,
   "metadata": {},
   "outputs": [
    {
     "name": "stdout",
     "output_type": "stream",
     "text": [
      "'Hello'\n"
     ]
    }
   ],
   "source": [
    "# [ ] print a string sentence that will display an Apostrophe (')\n",
    "print(\"'Hello'\")\n",
    "\n"
   ]
  },
  {
   "cell_type": "code",
   "execution_count": 2,
   "metadata": {},
   "outputs": [
    {
     "name": "stdout",
     "output_type": "stream",
     "text": [
      "\"Hello\"\n"
     ]
    }
   ],
   "source": [
    "# [ ] print a string sentence that will display a quote(\") or quotes\n",
    "print('\"Hello\"')\n",
    "\n"
   ]
  },
  {
   "cell_type": "markdown",
   "metadata": {
    "collapsed": true
   },
   "source": [
    "## Boolean string tests"
   ]
  },
  {
   "cell_type": "markdown",
   "metadata": {},
   "source": [
    "### Vehicle tests  \n",
    "#### get user input for a variable named vehicle  \n",
    "print the following tests results  \n",
    "- check True or False if vehicle is All alphabetical characters using .isalpha()  \n",
    "- check True or False if vehicle is only All alphabetical & numeric characters  \n",
    "- check True or False if vehicle is Capitalized (first letter only)  \n",
    "- check True or False if vehicle is All lowercase  \n",
    "- **bonus** print description for each test (e.g.- `\"All Alpha: True\"`)"
   ]
  },
  {
   "cell_type": "code",
   "execution_count": 24,
   "metadata": {},
   "outputs": [
    {
     "name": "stdout",
     "output_type": "stream",
     "text": [
      "Enter a vehicle name: Subaru\n",
      "All Alphabetical: True\n",
      "All Alphabetical & Numeric : False\n",
      "Is Capitalized: True\n",
      "All lowercase: False\n"
     ]
    }
   ],
   "source": [
    "# [ ] complete vehicle tests \n",
    "def all_alpha(vehicle):\n",
    "    if vehicle.isalpha() == True:\n",
    "        return True\n",
    "    else:\n",
    "        return False\n",
    "\n",
    "def all_alpha_num(vehicle):\n",
    "    if vehicle.isalpha == True and vehicle.isdigit() == True:\n",
    "        return True\n",
    "    else:\n",
    "        return False\n",
    "\n",
    "def is_capital(vehicle):\n",
    "    if vehicle[0].isupper():\n",
    "        return True\n",
    "    else:\n",
    "        return False\n",
    "\n",
    "def all_lower(vehicle):\n",
    "    if vehicle.lower() == True:\n",
    "        return True\n",
    "    else:\n",
    "        return False\n",
    "\n",
    "vehicle = input(\"Enter a vehicle name: \")\n",
    "\n",
    "print(\"All Alphabetical:\",all_alpha(vehicle))\n",
    "print(\"All Alphabetical & Numeric :\",all_alpha_num(vehicle))\n",
    "print(\"Is Capitalized:\",is_capital(vehicle))\n",
    "print(\"All lowercase:\",all_lower(vehicle))"
   ]
  },
  {
   "cell_type": "code",
   "execution_count": 28,
   "metadata": {},
   "outputs": [
    {
     "name": "stdout",
     "output_type": "stream",
     "text": [
      "Enter a colour: blue\n",
      "Colour begins with \"b\"? True\n"
     ]
    }
   ],
   "source": [
    "# [ ] print True or False if color starts with \"b\" \n",
    "def begins_b(colour):\n",
    "    if colour[0] == \"b\":\n",
    "        return True\n",
    "    else:\n",
    "        return False\n",
    "\n",
    "colour = input(\"Enter a colour: \")\n",
    "\n",
    "print('Colour begins with \"b\"?',begins_b(colour))"
   ]
  },
  {
   "cell_type": "raw",
   "metadata": {},
   "source": [
    "## String formatting"
   ]
  },
  {
   "cell_type": "code",
   "execution_count": 9,
   "metadata": {},
   "outputs": [
    {
     "name": "stdout",
     "output_type": "stream",
     "text": [
      "The TIME is Noon.\n"
     ]
    }
   ],
   "source": [
    "# [ ] print the string variable capital_this Capitalizing only the first letter\n",
    "capitalize_this = \"the TIME is Noon.\"\n",
    "capitalize_this = capitalize_this[0].upper() + capitalize_this[1:]\n",
    "print(capitalize_this)\n"
   ]
  },
  {
   "cell_type": "code",
   "execution_count": 12,
   "metadata": {},
   "outputs": [
    {
     "name": "stdout",
     "output_type": "stream",
     "text": [
      "Who WRITES like This?\n"
     ]
    }
   ],
   "source": [
    "# print the string variable swap_this in swapped case\n",
    "swap_this = \"wHO writes LIKE tHIS?\"\n",
    "swap_this = swap_this.swapcase()\n",
    "print(swap_this)\n"
   ]
  },
  {
   "cell_type": "code",
   "execution_count": 10,
   "metadata": {},
   "outputs": [
    {
     "name": "stdout",
     "output_type": "stream",
     "text": [
      "can you hear me?\n"
     ]
    }
   ],
   "source": [
    "# print the string variable whisper_this in all lowercase\n",
    "whisper_this = \"Can you hear me?\"\n",
    "whisper_this = whisper_this.lower()\n",
    "print(whisper_this)\n"
   ]
  },
  {
   "cell_type": "code",
   "execution_count": 11,
   "metadata": {},
   "outputs": [
    {
     "name": "stdout",
     "output_type": "stream",
     "text": [
      "CAN YOU HEAR ME NOW!?\n"
     ]
    }
   ],
   "source": [
    "# print the string variable yell_this in all UPPERCASE\n",
    "yell_this = \"Can you hear me Now!?\"\n",
    "yell_this = yell_this.upper()\n",
    "print(yell_this)\n"
   ]
  },
  {
   "cell_type": "code",
   "execution_count": 13,
   "metadata": {},
   "outputs": [
    {
     "name": "stdout",
     "output_type": "stream",
     "text": [
      "enter a string to reformat: hello!\n",
      "hELLO!\n"
     ]
    }
   ],
   "source": [
    "#format input using .upper(), .lower(), .swapcase, .capitalize()\n",
    "format_input = input('enter a string to reformat: ')\n",
    "format_input = format_input.capitalize().swapcase()\n",
    "print(format_input)\n"
   ]
  },
  {
   "cell_type": "markdown",
   "metadata": {},
   "source": [
    "### input() formatting"
   ]
  },
  {
   "cell_type": "code",
   "execution_count": 14,
   "metadata": {},
   "outputs": [
    {
     "name": "stdout",
     "output_type": "stream",
     "text": [
      "Enter a color: RED\n",
      "red\n"
     ]
    }
   ],
   "source": [
    "# [ ] get user input for a variable named color\n",
    "# [ ] modify color to be all lowercase and print\n",
    "color = input(\"Enter a color: \")\n",
    "color = color.lower()\n",
    "print(color)"
   ]
  },
  {
   "cell_type": "code",
   "execution_count": 15,
   "metadata": {},
   "outputs": [
    {
     "name": "stdout",
     "output_type": "stream",
     "text": [
      "What would you like to be reminded? I nEeD tO dO pYtHoN lAtEr\n",
      "i need to do python later\n"
     ]
    }
   ],
   "source": [
    "# [ ] get user input using variable remind_me and format to all **lowercase** and print\n",
    "# [ ] test using input with mixed upper and lower cases\n",
    "remind_me = input(\"What would you like to be reminded? \")\n",
    "remind_me = remind_me.lower()\n",
    "print(remind_me)\n"
   ]
  },
  {
   "cell_type": "code",
   "execution_count": 16,
   "metadata": {},
   "outputs": [
    {
     "name": "stdout",
     "output_type": "stream",
     "text": [
      "What would you like to yell? python!\n",
      "PYTHON!\n"
     ]
    }
   ],
   "source": [
    "# [] get user input for the variable yell_this and format as a \"YELL\" to ALL CAPS\n",
    "yell_this = input(\"What would you like to yell? \")\n",
    "yell_this = yell_this.upper()\n",
    "print(yell_this)"
   ]
  },
  {
   "cell_type": "markdown",
   "metadata": {},
   "source": [
    "## \"in\" keyword\n",
    "### boolean: short_str in long_str"
   ]
  },
  {
   "cell_type": "code",
   "execution_count": 29,
   "metadata": {},
   "outputs": [
    {
     "name": "stdout",
     "output_type": "stream",
     "text": [
      "Enter some animal names: dog mouse cat\n",
      "True\n"
     ]
    }
   ],
   "source": [
    "# [ ] get user input for the name of some animals in the variable animals_input\n",
    "animals_input = input(\"Enter some animal names: \")\n",
    "\n",
    "# [ ] print true or false if 'cat' is in the string variable animals_input\n",
    "if \"cat\" in animals_input:\n",
    "    print(True)\n",
    "else:\n",
    "    print(False)\n"
   ]
  },
  {
   "cell_type": "code",
   "execution_count": 31,
   "metadata": {},
   "outputs": [
    {
     "name": "stdout",
     "output_type": "stream",
     "text": [
      "Enter a color: blue\n",
      "Color starts with \"b\"? True\n",
      "blue\n"
     ]
    }
   ],
   "source": [
    "# [ ] get user input for color\n",
    "color = input(\"Enter a color: \")\n",
    "\n",
    "# [ ] print True or False for starts with \"b\"\n",
    "if \"b\" in color:\n",
    "    print('Color starts with \"b\"?',True)\n",
    "else:\n",
    "    print('Color starts with \"b\"?',False)\n",
    "\n",
    "# [ ] print color variable value exactly as input \n",
    "#     test with input: \"Blue\", \"BLUE\", \"bLUE\"\n",
    "print(color)\n",
    "\n",
    "\n"
   ]
  },
  {
   "cell_type": "markdown",
   "metadata": {},
   "source": [
    "## Program: guess what I'm reading\n",
    "### short_str in long_str\n",
    "\n",
    "1. **[ ]** get user **`input`** for a single word describing something that can be read \n",
    " save in a variable called **can_read**  \n",
    " e.g. - \"website\", \"newspaper\", \"blog\", \"textbook\"  \n",
    " &nbsp;  \n",
    "2. **[ ]** get user **`input`** for 3 things can be read  \n",
    " save in a variable called **can_read_things**  \n",
    "&nbsp;  \n",
    "\n",
    "3. **[ ]** print **`true`** if the **can_read** string is found  \n",
    " **in** the **can_read_things** string variable\n",
    "  \n",
    "*example of program input and output*  \n",
    "[![01 02 practice Allergy-input](https://iajupyterprodblobs.blob.core.windows.net/imagecontainer/guess_reading.gif) ](https://1drv.ms/i/s!Am_KPRosgtaij7A_G6RtDlWZeYA3ZA)\n"
   ]
  },
  {
   "cell_type": "code",
   "execution_count": 36,
   "metadata": {},
   "outputs": [
    {
     "name": "stdout",
     "output_type": "stream",
     "text": [
      "Enter 1 word item that can be read: newspaper\n",
      "Enter 3 items that can be read: book letter article\n",
      "item found = False\n"
     ]
    }
   ],
   "source": [
    "# project: \"guess what I'm reading\"\n",
    "\n",
    "# 1[ ] get 1 word input for can_read variable\n",
    "can_read = input(\"Enter 1 word item that can be read: \") \n",
    "\n",
    "# 2[ ] get 3 things input for can_read_things variable\n",
    "can_read_things = input(\"Enter 3 items that can be read: \")\n",
    "\n",
    "# 3[ ] print True if can_read is in can_read_things\n",
    "if can_read in can_read_things:\n",
    "    print(\"item found =\",True)\n",
    "else:\n",
    "    print(\"item found =\",False)\n",
    "\n",
    "# [] challenge: format the output to read \"item found = True\" (or false)\n",
    "# hint: look print formatting exercises\n",
    "\n"
   ]
  },
  {
   "cell_type": "markdown",
   "metadata": {},
   "source": [
    "## Program: Allergy Check\n",
    "\n",
    "1. **[ ]** get user **`input`** for categories of food eaten in the last 24 hours  \n",
    " save in a variable called **input_test**  \n",
    " *example input*\n",
    " [![01 02 practice Allergy-input](https://iajupyterprodblobs.blob.core.windows.net/imagecontainer/eaten_input.gif) ](https://1drv.ms/i/s!Am_KPRosgtaij65qzFD5CGvv95-ijg)\n",
    "&nbsp;  \n",
    "2. **[ ]** print **`True`** if \"dairy\" is in the **input_test** string  \n",
    "**[ ]** Test the code so far  \n",
    "&nbsp;\n",
    "3. **[ ]** modify the print statement to output similar to below  \n",
    "*example output*\n",
    "[![01 02 Allergy output](https://iajupyterprodblobs.blob.core.windows.net/imagecontainer/eaten_output.gif) ](https://1drv.ms/i/s!Am_KPRosgtaij65rET-wmlpCdMX7CQ)  \n",
    "Test the code so far trying input including the string \"dairy\" and without  \n",
    "&nbsp;  \n",
    "\n",
    "4. **[ ]** repeat the process checking the input for \"nuts\", **challenge** add \"Seafood\" and \"chocolate\"  \n",
    "**[ ]** Test your code  \n",
    "&nbsp;  \n",
    "  \n",
    "5. **[ ] challenge:** make your code work for input regardless of case, e.g. - print **`True`** for \"Nuts\", \"NuTs\", \"NUTS\" or \"nuts\"  \n"
   ]
  },
  {
   "cell_type": "code",
   "execution_count": 38,
   "metadata": {},
   "outputs": [
    {
     "name": "stdout",
     "output_type": "stream",
     "text": [
      "Enter somethings eaten in the last 24 hrs: nuts dairy chicken chocolate\n",
      "\n",
      "It is True that \"nuts dairy chicken chocolate\" contains dairy.\n",
      "It is True that \"nuts dairy chicken chocolate\" contains nuts.\n",
      "It is False that \"nuts dairy chicken chocolate\" contains seafood.\n",
      "It is True that \"nuts dairy chicken chocolate\" contains chocolate.\n"
     ]
    }
   ],
   "source": [
    "# Allergy check \n",
    "\n",
    "# 1[ ] get input for test\n",
    "input_test = input(\"Enter somethings eaten in the last 24 hrs: \")\n",
    "input_test = input_test.lower()\n",
    "# 2/3[ ] print True if \"dairy\" is in the input or False if not\n",
    "if \"dairy\" in input_test:\n",
    "    print(\"\\nIt is True that\",'\"'+input_test+'\"',\"contains dairy.\")\n",
    "else:\n",
    "    print(\"\\nIt is False that\",'\"'+input_test+'\"',\"contains dairy.\")\n",
    "\n",
    "# 4[ ] Check if \"nuts\" are in the input\n",
    "if \"nuts\" in input_test:\n",
    "    print(\"It is True that\",'\"'+input_test+'\"',\"contains nuts.\")\n",
    "else:\n",
    "    print(\"It is False that\",'\"'+input_test+'\"',\"contains nuts.\")\n",
    "    \n",
    "# 4+[ ] Challenge: Check if \"seafood\" is in the input\n",
    "if \"seafood\" in input_test:\n",
    "    print(\"It is True that\",'\"'+input_test+'\"',\"contains seafood.\")\n",
    "else:\n",
    "    print(\"It is False that\",'\"'+input_test+'\"',\"contains seafood.\")\n",
    "    \n",
    "# 4+[ ] Challenge: Check if \"chocolate\" is in the input\n",
    "if \"chocolate\" in input_test:\n",
    "    print(\"It is True that\",'\"'+input_test+'\"',\"contains chocolate.\")\n",
    "else:\n",
    "    print(\"It is False that\",'\"'+input_test+'\"',\"contains chocolate.\")\n",
    "    \n"
   ]
  },
  {
   "cell_type": "markdown",
   "metadata": {},
   "source": [
    "[Terms of use](http://go.microsoft.com/fwlink/?LinkID=206977) &nbsp; [Privacy & cookies](https://go.microsoft.com/fwlink/?LinkId=521839) &nbsp; © 2017 Microsoft"
   ]
  }
 ],
 "metadata": {
  "anaconda-cloud": {},
  "kernelspec": {
   "display_name": "Python 3",
   "language": "python",
   "name": "python3"
  },
  "language_info": {
   "codemirror_mode": {
    "name": "ipython",
    "version": 3
   },
   "file_extension": ".py",
   "mimetype": "text/x-python",
   "name": "python",
   "nbconvert_exporter": "python",
   "pygments_lexer": "ipython3",
   "version": "3.8.3"
  }
 },
 "nbformat": 4,
 "nbformat_minor": 1
}
