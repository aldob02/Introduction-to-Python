{
 "cells": [
  {
   "cell_type": "markdown",
   "metadata": {
    "collapsed": true
   },
   "source": [
    "# 1-1 Intro Python Practice\n",
    "##  Getting started with Python in Jupyter Notebooks\n",
    "### notebooks, comments, print(), type(), addition, errors and art\n",
    "\n",
    "<font size=\"5\" color=\"#00A0B2\"  face=\"verdana\"> <B>Student will be able to</B></font>\n",
    "- use Python 3 in Jupyter notebooks\n",
    "- write working code using `print()` and `#` comments  \n",
    "- write working code using `type()` and variables\n",
    "- combine strings using string addition (+)\n",
    "- add numbers in code (+)\n",
    "- troubleshoot errors\n",
    "- create character art  \n",
    "\n",
    "# &nbsp;\n",
    ">**note:** the **[ ]** indicates student has a task to complete  \n",
    "  \n",
    ">**reminder:** to run code and save changes: student should upload or clone a copy of notebooks \n",
    "\n",
    "#### notebook use\n",
    "- [ ] insert a **code cell** below   \n",
    "- [ ] enter the following Python code, including the comment: \n",
    "```python \n",
    "# [ ] print 'Hello!' and remember to save notebook!\n",
    "print('Hello!')\n",
    "```\n",
    "Then run the code - the output should be:  \n",
    "`Hello!`"
   ]
  },
  {
   "cell_type": "code",
   "execution_count": 2,
   "metadata": {},
   "outputs": [
    {
     "name": "stdout",
     "output_type": "stream",
     "text": [
      "Hello!\n"
     ]
    }
   ],
   "source": [
    "print('Hello!')"
   ]
  },
  {
   "cell_type": "markdown",
   "metadata": {},
   "source": [
    "#### run the cell below   \n",
    "- [ ] use **Ctrl + Enter**  \n",
    "- [ ] use **Shift + Enter**    "
   ]
  },
  {
   "cell_type": "code",
   "execution_count": 5,
   "metadata": {},
   "outputs": [
    {
     "name": "stdout",
     "output_type": "stream",
     "text": [
      "watch for the cat\n"
     ]
    }
   ],
   "source": [
    "print('watch for the cat')"
   ]
  },
  {
   "cell_type": "markdown",
   "metadata": {},
   "source": [
    "#### Aldo's Notebook editing\n",
    "- [ ] Edit **this** notebook Markdown cell replacing the word \"Student's\" above with your name\n",
    "- [ ] Run the cell to display the formatted text\n",
    "- [ ] Run any 'markdown' cells that are in edit mode, so they are easier to read"
   ]
  },
  {
   "cell_type": "code",
   "execution_count": 7,
   "metadata": {},
   "outputs": [
    {
     "name": "stdout",
     "output_type": "stream",
     "text": [
      "Run as a code cell\n"
     ]
    }
   ],
   "source": [
    "#### [ ] convert \\*this\\* cell from markdown to a code cell, then run it  \n",
    "print('Run as a code cell')\n"
   ]
  },
  {
   "cell_type": "markdown",
   "metadata": {},
   "source": [
    "##  # comments\n",
    "create a code comment that identifies this notebook, containing your name and the date"
   ]
  },
  {
   "cell_type": "markdown",
   "metadata": {
    "collapsed": true
   },
   "source": [
    "#### Aldo's Python online learing started on October 2019"
   ]
  },
  {
   "cell_type": "markdown",
   "metadata": {},
   "source": [
    "#### use print() to \n",
    "- [ ] print [**your_name**]\n",
    "- [ ] print **is using python!**"
   ]
  },
  {
   "cell_type": "code",
   "execution_count": 2,
   "metadata": {},
   "outputs": [
    {
     "name": "stdout",
     "output_type": "stream",
     "text": [
      "Aldo\n",
      "is using Python\n"
     ]
    }
   ],
   "source": [
    "# [ ] print your name\n",
    "print(\"Aldo\")\n",
    "\n",
    "# [ ] print \"is using Python\"\n",
    "print(\"is using Python\")\n",
    "\n"
   ]
  },
  {
   "cell_type": "markdown",
   "metadata": {},
   "source": [
    "Output above should be:  \n",
    "`Your Name  \n",
    "is using Python!`  "
   ]
  },
  {
   "cell_type": "markdown",
   "metadata": {},
   "source": [
    "#### use variables in print()\n",
    "- [ ] create a variable **your_name** and assign it a string containing your name\n",
    "- [ ] print **your_name**"
   ]
  },
  {
   "cell_type": "code",
   "execution_count": 1,
   "metadata": {},
   "outputs": [
    {
     "name": "stdout",
     "output_type": "stream",
     "text": [
      "Aldo\n"
     ]
    }
   ],
   "source": [
    "# [ ] create a variable your_name and assign it a sting containing your name\n",
    "your_name=\"Aldo\"\n",
    "\n",
    "#[ ] print your_name\n",
    "print(your_name)\n",
    "\n"
   ]
  },
  {
   "cell_type": "markdown",
   "metadata": {},
   "source": [
    "#### create more string variables\n",
    "- **[ ]** create variables as directed below\n",
    "- **[ ]** print the variables"
   ]
  },
  {
   "cell_type": "code",
   "execution_count": 15,
   "metadata": {},
   "outputs": [
    {
     "name": "stdout",
     "output_type": "stream",
     "text": [
      "A very happy dude  \n",
      " 11 \n",
      " 2\n"
     ]
    }
   ],
   "source": [
    "# [ ] create variables and assign values for: favorite_song, shoe_size, lucky_number\n",
    "\n",
    "favorite_song=\"A very happy dude \"\n",
    "shoe_size=11\n",
    "lucky_number=2\n",
    "\n",
    "# [ ] print the value of each variable favorite_song, shoe_size, and lucky_number\n",
    "\n",
    "print(favorite_song, \"\\n\", shoe_size,\"\\n\", lucky_number)\n",
    "\n"
   ]
  },
  {
   "cell_type": "markdown",
   "metadata": {},
   "source": [
    "#### use string addition\n",
    "- **[ ]**  print the above string variables (favorite_song, shoe_size, lucky_number) combined with a description by using **string addition**\n",
    ">for example favorite_song displayed as:  \n",
    "`favorite song is happy birthday`"
   ]
  },
  {
   "cell_type": "code",
   "execution_count": 23,
   "metadata": {},
   "outputs": [
    {
     "name": "stdout",
     "output_type": "stream",
     "text": [
      "My favorite song is A very happy dude \n",
      "My shoe size is 11\n",
      "My lucky number is 2\n"
     ]
    }
   ],
   "source": [
    "favorite_song=\"A very happy dude \"\n",
    "shoe_size=11\n",
    "lucky_number=2\n",
    "# [ ] print favorite_song with description\n",
    "print(\"My favorite song is\", favorite_song)\n",
    "\n",
    "\n",
    "# [ ] print shoe_size with description\n",
    "print(\"My shoe size is\", shoe_size)\n",
    "\n",
    "\n",
    "# [ ] print lucky_number with description\n",
    "print(\"My lucky number is\", lucky_number )\n",
    "\n"
   ]
  },
  {
   "cell_type": "markdown",
   "metadata": {},
   "source": [
    "##### more string addition\n",
    "- **[ ]** make a single string (sentence) in a variable called favorite_lucky_shoe using **string addition** with favorite_song, shoe_size, lucky_number variables and other strings as needed \n",
    "- **[ ]** print the value of the favorite_lucky_shoe variable string\n",
    "> sample output:  \n",
    "`For singing happy birthday 8.5 times, you will be fined $25`"
   ]
  },
  {
   "cell_type": "code",
   "execution_count": 1,
   "metadata": {},
   "outputs": [
    {
     "name": "stdout",
     "output_type": "stream",
     "text": [
      "('the song', 'A very happy dude ', 'helped', 11, 'times desperate people and ', 2, 'times depressed one')\n"
     ]
    }
   ],
   "source": [
    "# assign favorite_lucky_shoe using\n",
    "favorite_song=\"A very happy dude \"\n",
    "shoe_size=11\n",
    "lucky_number=2\n",
    "\n",
    "favorite_lucky_shoe= 'the song', favorite_song, \"helped\", shoe_size, \"times desperate people and \", lucky_number, \"times depressed one\"\n",
    "print (favorite_lucky_shoe)\n",
    "\n",
    "\n"
   ]
  },
  {
   "cell_type": "markdown",
   "metadata": {},
   "source": [
    "### print() art"
   ]
  },
  {
   "cell_type": "markdown",
   "metadata": {},
   "source": [
    "#### use `print()` and the asterisk **\\*** to create the following shapes\n",
    "- [ ] diagonal line  \n",
    "- [ ] rectangle  \n",
    "- [ ] smiley face"
   ]
  },
  {
   "cell_type": "code",
   "execution_count": 4,
   "metadata": {},
   "outputs": [
    {
     "name": "stdout",
     "output_type": "stream",
     "text": [
      "*\n",
      "  *\n",
      "    *\n",
      "      *\n",
      "        *\n",
      "          *\n",
      "            *\n",
      "              *\n",
      "                *\n",
      "\n",
      "***********\n",
      "*         *\n",
      "*         *\n",
      "*         *\n",
      "***********\n",
      "\n",
      "  *  *  \n",
      "  *  *  \n",
      "  *  *  \n",
      "\n",
      "*      *\n",
      " *    * \n",
      "  ****  \n"
     ]
    }
   ],
   "source": [
    "# [ ] print a diagonal using \"*\"\n",
    "print(\"*\")\n",
    "print(\"  *\")\n",
    "print(\"    *\")\n",
    "print(\"      *\")\n",
    "print(\"        *\")\n",
    "print(\"          *\")\n",
    "print(\"            *\")\n",
    "print(\"              *\")\n",
    "print(\"                *\")\n",
    "print()\n",
    "\n",
    "# [ ] rectangle using \"*\"\n",
    "print(\"***********\")\n",
    "print(\"*         *\")\n",
    "print(\"*         *\")\n",
    "print(\"*         *\")\n",
    "print(\"***********\")\n",
    "print()\n",
    "\n",
    "# [ ] smiley using \"*\"\n",
    "print(\"  *  *  \")\n",
    "print(\"  *  *  \")\n",
    "print(\"  *  *  \")\n",
    "print()\n",
    "print(\"*      *\")\n",
    "print(\" *    * \")\n",
    "print(\"  ****  \")\n",
    "\n"
   ]
  },
  {
   "cell_type": "markdown",
   "metadata": {},
   "source": [
    "#### Using `type()`\n",
    "-**[ ]** calulate the *type* using `type()`"
   ]
  },
  {
   "cell_type": "code",
   "execution_count": 9,
   "metadata": {},
   "outputs": [
    {
     "name": "stdout",
     "output_type": "stream",
     "text": [
      "<class 'str'>\n"
     ]
    }
   ],
   "source": [
    "# [ ] display the type of 'your name' (use single quotes)\n",
    "print(type('your name'))\n",
    "\n"
   ]
  },
  {
   "cell_type": "code",
   "execution_count": 6,
   "metadata": {},
   "outputs": [
    {
     "name": "stdout",
     "output_type": "stream",
     "text": [
      "<class 'str'>\n"
     ]
    }
   ],
   "source": [
    "# [ ] display the type of \"save your notebook!\" (use double quotes)\n",
    "print(type(\"save your notebook!\"))\n",
    "\n"
   ]
  },
  {
   "cell_type": "code",
   "execution_count": 7,
   "metadata": {},
   "outputs": [
    {
     "name": "stdout",
     "output_type": "stream",
     "text": [
      "<class 'str'>\n"
     ]
    }
   ],
   "source": [
    "# [ ] display the type of \"25\" (use quotes)\n",
    "print(type(\"25\"))\n",
    "\n"
   ]
  },
  {
   "cell_type": "code",
   "execution_count": 8,
   "metadata": {},
   "outputs": [
    {
     "name": "stdout",
     "output_type": "stream",
     "text": [
      "<class 'str'>\n"
     ]
    }
   ],
   "source": [
    "# [ ] display the type of \"save your notebook \" + 'your name'\n",
    "print(type(\"save your notebook\" + 'your name'))\n",
    "\n"
   ]
  },
  {
   "cell_type": "code",
   "execution_count": 10,
   "metadata": {},
   "outputs": [
    {
     "name": "stdout",
     "output_type": "stream",
     "text": [
      "<class 'int'>\n"
     ]
    }
   ],
   "source": [
    "# [ ] display the type of 25 (no quotes)\n",
    "print(type(25))\n",
    "\n"
   ]
  },
  {
   "cell_type": "code",
   "execution_count": 11,
   "metadata": {},
   "outputs": [
    {
     "name": "stdout",
     "output_type": "stream",
     "text": [
      "<class 'int'>\n"
     ]
    }
   ],
   "source": [
    "# [ ] display the type of 25 + 10 \n",
    "print(type(25 + 10))\n",
    "\n"
   ]
  },
  {
   "cell_type": "code",
   "execution_count": 12,
   "metadata": {},
   "outputs": [
    {
     "name": "stdout",
     "output_type": "stream",
     "text": [
      "<class 'float'>\n"
     ]
    }
   ],
   "source": [
    "# [ ] display the type of 1.55\n",
    "print(type(1.55))\n",
    "\n"
   ]
  },
  {
   "cell_type": "code",
   "execution_count": 13,
   "metadata": {},
   "outputs": [
    {
     "name": "stdout",
     "output_type": "stream",
     "text": [
      "<class 'float'>\n"
     ]
    }
   ],
   "source": [
    "# [ ] display the type of 1.55 + 25\n",
    "print(type(1.55 + 25))\n",
    "\n"
   ]
  },
  {
   "cell_type": "markdown",
   "metadata": {},
   "source": [
    "#### Find the type of variables\n",
    "- **[ ]** run the cell below to make the variables available to be used in other code\n",
    "- **[ ]** display the data type as directed in the cells that follow"
   ]
  },
  {
   "cell_type": "code",
   "execution_count": 16,
   "metadata": {},
   "outputs": [],
   "source": [
    "# assignments ***RUN THIS CELL*** before starting the section\n",
    "\n",
    "student_name = \"Gus\"\n",
    "student_age = 16\n",
    "student_grade = 3.5\n",
    "student_id = \"ABC-000-000\"\n"
   ]
  },
  {
   "cell_type": "code",
   "execution_count": 17,
   "metadata": {},
   "outputs": [
    {
     "name": "stdout",
     "output_type": "stream",
     "text": [
      "<class 'str'>\n"
     ]
    }
   ],
   "source": [
    "# [ ] display the current type of the variable student_name\n",
    "print(type(student_name))\n",
    "\n"
   ]
  },
  {
   "cell_type": "code",
   "execution_count": 18,
   "metadata": {},
   "outputs": [
    {
     "name": "stdout",
     "output_type": "stream",
     "text": [
      "<class 'int'>\n"
     ]
    }
   ],
   "source": [
    "# [ ] display the type of student_age\n",
    "print(type(student_age))\n",
    "\n"
   ]
  },
  {
   "cell_type": "code",
   "execution_count": 19,
   "metadata": {},
   "outputs": [
    {
     "name": "stdout",
     "output_type": "stream",
     "text": [
      "<class 'float'>\n"
     ]
    }
   ],
   "source": [
    "# [ ] display the type of student_grade\n",
    "print(type(student_grade))\n",
    "\n"
   ]
  },
  {
   "cell_type": "code",
   "execution_count": 20,
   "metadata": {},
   "outputs": [
    {
     "name": "stdout",
     "output_type": "stream",
     "text": [
      "<class 'float'>\n"
     ]
    }
   ],
   "source": [
    "# [ ] display the type of student_age + student_grade\n",
    "\n",
    "print(type(student_age + student_grade))\n"
   ]
  },
  {
   "cell_type": "code",
   "execution_count": 21,
   "metadata": {},
   "outputs": [
    {
     "name": "stdout",
     "output_type": "stream",
     "text": [
      "<class 'str'>\n"
     ]
    }
   ],
   "source": [
    "# [ ] display the current type of student_id\n",
    "print(type(student_id))\n",
    "\n"
   ]
  },
  {
   "cell_type": "code",
   "execution_count": 22,
   "metadata": {},
   "outputs": [
    {
     "name": "stdout",
     "output_type": "stream",
     "text": [
      "ZYX-999-999\n"
     ]
    }
   ],
   "source": [
    "# assign new value to student_id \n",
    "student_id = 'ZYX-999-999'\n",
    "\n",
    "# [ ] display the current of student_id\n",
    "print(student_id)\n",
    "\n"
   ]
  },
  {
   "cell_type": "markdown",
   "metadata": {
    "collapsed": true
   },
   "source": [
    "#### number integer addition\n",
    "\n",
    "- **[ ]** create variables (x, y, z) with integer values"
   ]
  },
  {
   "cell_type": "code",
   "execution_count": 23,
   "metadata": {},
   "outputs": [],
   "source": [
    "# [ ] create integer variables (x, y, z) and assign them 1-3 digit integers (no decimals - no quotes)\n",
    "x = 1\n",
    "y = 2\n",
    "z = 3\n",
    "\n"
   ]
  },
  {
   "cell_type": "markdown",
   "metadata": {},
   "source": [
    "- **[ ]** insert a **code cell** below\n",
    "- **[ ]** create an integer variable named **xyz_sum** equal to the sum of x, y, and z\n",
    "- **[ ]** print the value of **xyz_sum** "
   ]
  },
  {
   "cell_type": "code",
   "execution_count": 24,
   "metadata": {},
   "outputs": [
    {
     "name": "stdout",
     "output_type": "stream",
     "text": [
      "6\n"
     ]
    }
   ],
   "source": [
    "xyz_sum = x + y + z\n",
    "print(xyz_sum)\n",
    "\n"
   ]
  },
  {
   "cell_type": "markdown",
   "metadata": {},
   "source": [
    "### Errors\n",
    "- **[ ]** troubleshoot and fix the errors below"
   ]
  },
  {
   "cell_type": "code",
   "execution_count": 25,
   "metadata": {},
   "outputs": [
    {
     "name": "stdout",
     "output_type": "stream",
     "text": [
      "Hello World!\n"
     ]
    }
   ],
   "source": [
    "# [ ] fix the error \n",
    "\n",
    "print(\"Hello World!\")    \n",
    "\n",
    "\n"
   ]
  },
  {
   "cell_type": "code",
   "execution_count": 26,
   "metadata": {},
   "outputs": [
    {
     "name": "stdout",
     "output_type": "stream",
     "text": [
      "strings have quotes and variables have names\n"
     ]
    }
   ],
   "source": [
    "# [ ] fix the error \n",
    "print(\"strings have quotes and variables have names\")\n",
    "\n"
   ]
  },
  {
   "cell_type": "code",
   "execution_count": 27,
   "metadata": {},
   "outputs": [
    {
     "name": "stdout",
     "output_type": "stream",
     "text": [
      "I have $5\n"
     ]
    }
   ],
   "source": [
    "# [ ] fix the error \n",
    "print( \"I have $\" + str(5)) # 5 has to be converted into string\n",
    "\n"
   ]
  },
  {
   "cell_type": "code",
   "execution_count": 28,
   "metadata": {},
   "outputs": [
    {
     "name": "stdout",
     "output_type": "stream",
     "text": [
      "always save the notebook\n"
     ]
    }
   ],
   "source": [
    "# [ ] fix the error \n",
    "print(\"always save the notebook\")\n",
    "      \n"
   ]
  },
  {
   "cell_type": "markdown",
   "metadata": {
    "collapsed": true
   },
   "source": [
    "## ASCII art\n",
    "- **[ ]** Display first name or initials as ASCII Art\n",
    "- **[ ]** Challenge: insert an additional code cell to make an ASCII picture"
   ]
  },
  {
   "cell_type": "code",
   "execution_count": null,
   "metadata": {},
   "outputs": [],
   "source": [
    "# [ ] ASCII ART\n",
    "\n",
    "\n"
   ]
  },
  {
   "cell_type": "code",
   "execution_count": null,
   "metadata": {},
   "outputs": [],
   "source": [
    "# [ ] ASCII ART\n",
    "\n"
   ]
  },
  {
   "cell_type": "markdown",
   "metadata": {},
   "source": [
    "[Terms of use](http://go.microsoft.com/fwlink/?LinkID=206977) &nbsp; [Privacy & cookies](https://go.microsoft.com/fwlink/?LinkId=521839) &nbsp; © 2017 Microsoft"
   ]
  }
 ],
 "metadata": {
  "anaconda-cloud": {},
  "kernelspec": {
   "display_name": "Python 3",
   "language": "python",
   "name": "python3"
  },
  "language_info": {
   "codemirror_mode": {
    "name": "ipython",
    "version": 3
   },
   "file_extension": ".py",
   "mimetype": "text/x-python",
   "name": "python",
   "nbconvert_exporter": "python",
   "pygments_lexer": "ipython3",
   "version": "3.8.3"
  }
 },
 "nbformat": 4,
 "nbformat_minor": 1
}
