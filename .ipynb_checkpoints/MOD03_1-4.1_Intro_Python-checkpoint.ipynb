{
 "cells": [
  {
   "cell_type": "markdown",
   "metadata": {},
   "source": [
    "# 1-4.1 Intro Python\n",
    "## Conditionals \n",
    "- **`if`, `else`, `pass`**\n",
    "  - **Conditionals using Boolean String Methods**\n",
    "  - Comparison operators\n",
    "  - String comparisons\n",
    "\n",
    "----- \n",
    "\n",
    "><font size=\"5\" color=\"#00A0B2\"  face=\"verdana\"> <B>Student will be able to</B></font>  \n",
    "- **control code flow with `if`... `else` conditional logic**  \n",
    "  - **using Boolean string methods (`.isupper(), .isalpha(), startswith()...`)**  \n",
    "  - using comparison (`>, <, >=, <=, ==, !=`)  \n",
    "  - using Strings in comparisons  "
   ]
  },
  {
   "cell_type": "markdown",
   "metadata": {},
   "source": [
    "# &nbsp;\n",
    "<font size=\"6\" color=\"#00A0B2\"  face=\"verdana\"> <B>Concepts</B></font>\n",
    "## Conditionals use `True` or `False`\n",
    " - **`if`**\n",
    " - **`else`**\n",
    "   - **`pass`**  \n",
    "   \n",
    "[![view video](https://iajupyterprodblobs.blob.core.windows.net/imagecontainer/common/play_video.png)]( http://edxinteractivepage.blob.core.windows.net/edxpages/f7cff1a7-5601-48a1-95a6-fd1fdfabd20e.html?details=[{\"src\":\"http://jupyternootbookwams.streaming.mediaservices.windows.net/c53fdb30-b2b0-4183-9686-64b0e5b46dd2/Unit1_Section4.1-Conditionals.ism/manifest\",\"type\":\"application/vnd.ms-sstr+xml\"}],[{\"src\":\"http://jupyternootbookwams.streaming.mediaservices.windows.net/c53fdb30-b2b0-4183-9686-64b0e5b46dd2/Unit1_Section4.1-Conditonals.vtt\",\"srclang\":\"en\",\"kind\":\"subtitles\",\"label\":\"english\"}])"
   ]
  },
  {
   "cell_type": "markdown",
   "metadata": {},
   "source": [
    "# &nbsp;\n",
    "<font size=\"6\" color=\"#00A0B2\"  face=\"verdana\"> <B>Examples</B></font>"
   ]
  },
  {
   "cell_type": "code",
   "execution_count": null,
   "metadata": {},
   "outputs": [],
   "source": [
    "if False:\n",
    "    print(\"True means do something\")\n",
    "else:\n",
    "    print(\"Not True means do something else\")"
   ]
  },
  {
   "cell_type": "code",
   "execution_count": null,
   "metadata": {},
   "outputs": [],
   "source": [
    "if True:\n",
    "    print('True means do something')\n",
    "else:\n",
    "    print('Not True means do something else')"
   ]
  },
  {
   "cell_type": "code",
   "execution_count": null,
   "metadata": {},
   "outputs": [],
   "source": [
    "hot_tea = True\n",
    "\n",
    "if hot_tea:\n",
    "    print(\"enjoy some hot tea!\")\n",
    "else:\n",
    "    print(\"enjoy some tea, and perhaps try hot tea next time.\")"
   ]
  },
  {
   "cell_type": "code",
   "execution_count": null,
   "metadata": {},
   "outputs": [],
   "source": [
    "someone_i_know = False\n",
    "if someone_i_know:\n",
    "    print(\"how have you been?\")\n",
    "else:\n",
    "    # use pass if there is no need to execute code \n",
    "    pass"
   ]
  },
  {
   "cell_type": "code",
   "execution_count": 2,
   "metadata": {},
   "outputs": [
    {
     "name": "stdout",
     "output_type": "stream",
     "text": [
      "how have you been?\n"
     ]
    }
   ],
   "source": [
    "# changed the value of someone_i_know\n",
    "someone_i_know = True\n",
    "if someone_i_know:\n",
    "    print(\"how have you been?\")\n",
    "else:\n",
    "    pass"
   ]
  },
  {
   "cell_type": "markdown",
   "metadata": {
    "collapsed": true
   },
   "source": [
    "# &nbsp;\n",
    "<font size=\"6\" color=\"#B24C00\"  face=\"verdana\"> <B>Task 1</B></font>\n",
    "\n",
    "## Conditionals\n",
    "### Using Boolean with &nbsp; `if, else`\n",
    "\n",
    "- **Give a weather report using `if, else`**"
   ]
  },
  {
   "cell_type": "code",
   "execution_count": 7,
   "metadata": {},
   "outputs": [
    {
     "name": "stdout",
     "output_type": "stream",
     "text": [
      "Today is very hot. Time to go to beach\n"
     ]
    }
   ],
   "source": [
    "sunny_today = True\n",
    "# [ ] test if it is sunny_today and give proper responses using if and else\n",
    "if sunny_today == True:\n",
    "    print('Today is very hot. Time to go to beach')\n",
    "else:\n",
    "    print('I would rather practice Python than to go out on a rainy day')\n"
   ]
  },
  {
   "cell_type": "code",
   "execution_count": 6,
   "metadata": {},
   "outputs": [
    {
     "name": "stdout",
     "output_type": "stream",
     "text": [
      "I would rather practice Python than to go out on a rainy day\n"
     ]
    }
   ],
   "source": [
    "sunny_today = False\n",
    "# [ ] use code you created above and test sunny_today = False\n",
    "if sunny_today == True:\n",
    "    print('Today is very hot. Time to go to beach')\n",
    "else:\n",
    "    print('I would rather practice Python than to go out on a rainy day')\n"
   ]
  },
  {
   "cell_type": "markdown",
   "metadata": {},
   "source": [
    "# &nbsp;\n",
    "<font size=\"6\" color=\"#00A0B2\"  face=\"verdana\"> <B>Concepts</B></font>\n",
    "## Conditionals: Boolean String test methods  with `if`\n",
    "[![view video](https://iajupyterprodblobs.blob.core.windows.net/imagecontainer/common/play_video.png)]( http://edxinteractivepage.blob.core.windows.net/edxpages/f7cff1a7-5601-48a1-95a6-fd1fdfabd20e.html?details=[{\"src\":\"http://jupyternootbookwams.streaming.mediaservices.windows.net/caa56256-733a-4172-96f7-9ecfc12d49d0/Unit1_Section4.1-conditionals-bool.ism/manifest\",\"type\":\"application/vnd.ms-sstr+xml\"}],[{\"src\":\"http://jupyternootbookwams.streaming.mediaservices.windows.net/caa56256-733a-4172-96f7-9ecfc12d49d0/Unit1_Section4.1-conditonals-bool.vtt\",\"srclang\":\"en\",\"kind\":\"subtitles\",\"label\":\"english\"}])\n",
    "```python\n",
    "if student_name.isalpha():\n",
    "```  \n",
    "- **`.isalnum()`**\n",
    "- **`.istitle()`**\n",
    "- **`.isdigit()`**\n",
    "- **`.islower()`**\n",
    "- **`.startswith()`**\n"
   ]
  },
  {
   "cell_type": "markdown",
   "metadata": {},
   "source": [
    "### &nbsp;\n",
    "<font size=\"6\" color=\"#00A0B2\"  face=\"verdana\"> <B>Examples</B></font>"
   ]
  },
  {
   "cell_type": "code",
   "execution_count": 10,
   "metadata": {},
   "outputs": [
    {
     "name": "stdout",
     "output_type": "stream",
     "text": [
      "Enter the title of your favorite book: Universe\n",
      "Universe - nice, you capitalized the title!\n"
     ]
    }
   ],
   "source": [
    "# review code and run cell\n",
    "favorite_book = input(\"Enter the title of your favorite book: \")\n",
    "\n",
    "if favorite_book.istitle(): # .istitle() is a commend for the words to be capitalized\n",
    "    print(favorite_book, \"- nice, you capitalized the title!\")\n",
    "else:\n",
    "    print(favorite_book, \"- consider capitalization for titles.\")"
   ]
  },
  {
   "cell_type": "code",
   "execution_count": null,
   "metadata": {},
   "outputs": [],
   "source": [
    "# review code and run cell\n",
    "a_number = input(\"enter a positive integer number: \")\n",
    "\n",
    "if a_number.isdigit():\n",
    "    print(a_number, \"is a positive integer\")\n",
    "\n",
    "elif a_number.isalpha():\n",
    "    print(a_number, \"is not even an integer\")\n",
    "\n",
    "else:\n",
    "    print(a_number, \"is not a positive integer\")"
   ]
  },
  {
   "cell_type": "code",
   "execution_count": 2,
   "metadata": {},
   "outputs": [
    {
     "name": "stdout",
     "output_type": "stream",
     "text": [
      "\"enter a type of vehicle that starts with \"P\": honda\n",
      "honda does not start with \"P\"\n"
     ]
    }
   ],
   "source": [
    "# review code and run cell\n",
    "vehicle_type = input('\"enter a type of vehicle that starts with \"P\": ')\n",
    "\n",
    "if vehicle_type.upper().startswith(\"P\"):\n",
    "    print(vehicle_type, 'starts with \"P\"')\n",
    "else:\n",
    "    print(vehicle_type, 'does not start with \"P\"')"
   ]
  },
  {
   "cell_type": "markdown",
   "metadata": {
    "collapsed": true
   },
   "source": [
    "# &nbsp;\n",
    "<font size=\"6\" color=\"#B24C00\"  face=\"verdana\"> <B>Task 2: multi-part</B></font>\n",
    "\n",
    "## Evaluating Boolean Conditionals \n",
    "### create evaluations for `.islower()`\n",
    "- print output describing **if** each of the 2 strings is all lower or not\n"
   ]
  },
  {
   "cell_type": "code",
   "execution_count": 3,
   "metadata": {},
   "outputs": [
    {
     "name": "stdout",
     "output_type": "stream",
     "text": [
      "I have $3\n"
     ]
    }
   ],
   "source": [
    "test_string_1 = \"welcome\"\n",
    "test_string_2 = \"I have $3\"\n",
    "# [ ] use if, else to test for islower() for the 2 strings\n",
    "if test_string_1.islower():\n",
    "    print(test_string_2)\n",
    "else:\n",
    "    print(test_string_1)\n"
   ]
  },
  {
   "cell_type": "markdown",
   "metadata": {},
   "source": [
    "<font size=\"3\" color=\"#B24C00\"  face=\"verdana\"> <B>Task 2 continued.. </B></font>\n",
    "### create a functions  using `startswith('w')`\n",
    "- w_start_test() tests if starts with \"w\"  \n",
    "**function should have a parameter for `test_string` and print the test result**"
   ]
  },
  {
   "cell_type": "code",
   "execution_count": 4,
   "metadata": {},
   "outputs": [
    {
     "name": "stdout",
     "output_type": "stream",
     "text": [
      "True\n",
      "False\n",
      "True\n"
     ]
    }
   ],
   "source": [
    "test_string_1 = \"welcome\"\n",
    "test_string_2 = \"I have $3\"\n",
    "test_string_3 = \"With a function it's efficient to repeat code\"\n",
    "\n",
    "# [ ] create a function w_start_test() use if & else to test with startswith('w'). \n",
    "#(function should have a parameter for test_string and print the test result)\n",
    "\n",
    "def w_start_test(test_string):\n",
    "    if test_string.lower().startswith(\"w\"):    # conditions for test_string: if lower case or start with letter w.\n",
    "        return True  #if test_string contains lower case or start with\"w\", then make it true\n",
    "    else:\n",
    "        return False\n",
    "\n",
    "# [ ] Test the 3 string variables provided by calling w_start_test()\n",
    " \n",
    "print(w_start_test(test_string_1))  \n",
    "print(w_start_test(test_string_2))\n",
    "print(w_start_test(test_string_3))\n",
    "\n"
   ]
  },
  {
   "cell_type": "code",
   "execution_count": 6,
   "metadata": {},
   "outputs": [
    {
     "name": "stdout",
     "output_type": "stream",
     "text": [
      "Be careful, the plate is hot!\n"
     ]
    }
   ],
   "source": [
    "# edx quiz\n",
    "hot_plate = True\n",
    "\n",
    "if hot_plate:\n",
    "    print(\"Be careful, the plate is hot!\")\n",
    "else:\n",
    "    print(\"The plate is ready.\")"
   ]
  },
  {
   "cell_type": "code",
   "execution_count": 7,
   "metadata": {},
   "outputs": [
    {
     "name": "stdout",
     "output_type": "stream",
     "text": [
      "Subaru does not start with \"P\"\n"
     ]
    }
   ],
   "source": [
    " # edx quiz \n",
    "vehicle_type = \"Subaru\"\n",
    "\n",
    "if vehicle_type.upper().startswith(\"P\"):\n",
    "    print(vehicle_type, 'starts with \"P\"')\n",
    "else:\n",
    "    print(vehicle_type, 'does not start with \"P\"')"
   ]
  },
  {
   "cell_type": "code",
   "execution_count": 8,
   "metadata": {},
   "outputs": [
    {
     "name": "stdout",
     "output_type": "stream",
     "text": [
      "2001 is all digits\n"
     ]
    }
   ],
   "source": [
    "# edx quiz\n",
    "year = \"2001\" \n",
    "\n",
    "if year.isdigit():\n",
    "    print(year, \"is all digits\")  \n",
    "else:\n",
    "    print(year, \"is not all digits\")"
   ]
  },
  {
   "cell_type": "markdown",
   "metadata": {},
   "source": [
    "[Terms of use](http://go.microsoft.com/fwlink/?LinkID=206977) &nbsp; [Privacy & cookies](https://go.microsoft.com/fwlink/?LinkId=521839) &nbsp; © 2017 Microsoft"
   ]
  }
 ],
 "metadata": {
  "anaconda-cloud": {},
  "kernelspec": {
   "display_name": "Python 3",
   "language": "python",
   "name": "python3"
  },
  "language_info": {
   "codemirror_mode": {
    "name": "ipython",
    "version": 3
   },
   "file_extension": ".py",
   "mimetype": "text/x-python",
   "name": "python",
   "nbconvert_exporter": "python",
   "pygments_lexer": "ipython3",
   "version": "3.8.3"
  }
 },
 "nbformat": 4,
 "nbformat_minor": 1
}
