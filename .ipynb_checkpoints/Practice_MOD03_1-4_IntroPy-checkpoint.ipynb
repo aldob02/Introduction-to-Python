{
 "cells": [
  {
   "cell_type": "markdown",
   "metadata": {},
   "source": [
    "# 1-4.3 Intro Python Practice\n",
    "## Conditionals \n",
    "<font size=\"5\" color=\"#00A0B2\"  face=\"verdana\"> <B>Student will be able to</B></font>  \n",
    "- **control code flow with `if`... `else` conditional logic**  \n",
    "  - using Boolean string methods (`.isupper(), .isalpha(), .startswith()...`)  \n",
    "  - using comparision (`>, <, >=, <=, ==, !=`)  \n",
    "  - using Strings in comparisons  "
   ]
  },
  {
   "cell_type": "markdown",
   "metadata": {},
   "source": [
    "## `if else`\n"
   ]
  },
  {
   "cell_type": "code",
   "execution_count": 4,
   "metadata": {},
   "outputs": [
    {
     "name": "stdout",
     "output_type": "stream",
     "text": [
      "Enter an age: 17\n",
      "Your age in 10 years will be: 27\n"
     ]
    }
   ],
   "source": [
    "# [ ] input a variable: age as digit and cast to int\n",
    "age = int(input(\"Enter an age: \"))\n",
    "# if age greater than or equal to 12 then print message on age in 10 years \n",
    "if age >= 12:\n",
    "    print(\"Your age in 10 years will be:\",age+10)\n",
    "# or else print message \"It is good to be\" age\n",
    "else:\n",
    "    print(\"It is good to be\",age)\n",
    "\n",
    "\n",
    "\n",
    "\n"
   ]
  },
  {
   "cell_type": "code",
   "execution_count": 5,
   "metadata": {},
   "outputs": [
    {
     "name": "stdout",
     "output_type": "stream",
     "text": [
      "Enter a number: 900\n",
      "Is 900 greater than 100? True\n"
     ]
    }
   ],
   "source": [
    "# [ ] input a number \n",
    "num = input(\"Enter a number: \")\n",
    "# if number IS a digit string then cast to int\n",
    "if num.isalpha() == False:\n",
    "    num = int(num)\n",
    "    # print number \"greater than 100 is\" True/False\n",
    "    if num >= 100:\n",
    "        print(\"Is\",num,\"greater than 100?\",True)\n",
    "    else:\n",
    "        print(\"Is\",num,\"greater than 100?\",False)\n",
    "\n",
    "# if number is NOT a digit string then message the user that \"only int is accepted\"\n",
    "else:\n",
    "    print(\"Only integers are accepted\")\n",
    "\n"
   ]
  },
  {
   "cell_type": "markdown",
   "metadata": {},
   "source": [
    "### Guessing a letter A-Z  \n",
    "**check_guess()** takes 2 string arguments: **letter and guess** (both expect single alphabetical character)   \n",
    "    - if guess is not an alpha character print invalid and return False\n",
    "    - test and print if guess is \"high\" or \"low\" and return False\n",
    "    - test and print if guess is \"correct\" and return True"
   ]
  },
  {
   "cell_type": "code",
   "execution_count": 2,
   "metadata": {},
   "outputs": [
    {
     "name": "stdout",
     "output_type": "stream",
     "text": [
      "Low\n"
     ]
    },
    {
     "data": {
      "text/plain": [
       "False"
      ]
     },
     "execution_count": 2,
     "metadata": {},
     "output_type": "execute_result"
    }
   ],
   "source": [
    "# [ ] create check_guess()\n",
    "def check_guess(letter,guess):\n",
    "    if guess.isalpha() == False:\n",
    "        print(\"Invalid\")\n",
    "        return False\n",
    "    elif guess > letter:\n",
    "        print(\"High\")\n",
    "        return False\n",
    "    elif guess < letter:\n",
    "        print(\"Low\")\n",
    "        return False\n",
    "    elif guess == letter:\n",
    "        print(\"Correct\")\n",
    "        return True\n",
    "    else:\n",
    "        return False\n",
    "\n",
    "# call with test\n",
    "letter = \"t\"\n",
    "guess = \"c\"\n",
    "check_guess(letter,guess)\n",
    "\n"
   ]
  },
  {
   "cell_type": "code",
   "execution_count": 3,
   "metadata": {},
   "outputs": [
    {
     "name": "stdout",
     "output_type": "stream",
     "text": [
      "Enter a letter: 5\n",
      "Invalid\n"
     ]
    },
    {
     "data": {
      "text/plain": [
       "False"
      ]
     },
     "execution_count": 3,
     "metadata": {},
     "output_type": "execute_result"
    }
   ],
   "source": [
    "# [ ] call check_guess with user input\n",
    "\n",
    "guess = input(\"Enter a letter: \")\n",
    "guess = guess.lower()\n",
    "check_guess(letter,guess)"
   ]
  },
  {
   "cell_type": "markdown",
   "metadata": {},
   "source": [
    "### Letter Guess\n",
    "**create letter_guess() function that gives user 3 guesses**\n",
    "- takes a letter character argument for the answer letter\n",
    "- gets user input for letter guess  \n",
    "- calls check_guess() with answer and guess\n",
    "- End letter_guess if \n",
    "    - check_guess() equals True, return True  \n",
    "    - or after 3 failed attempts, return False"
   ]
  },
  {
   "cell_type": "code",
   "execution_count": null,
   "metadata": {},
   "outputs": [],
   "source": [
    "# [ ] create letter_guess() function, call the function to test\n",
    "def letter_guess(letter,guess):\n",
    "    if guess.isalpha() == False:\n",
    "        print(\"Invalid\")\n",
    "        return False\n",
    "    elif guess > letter:\n",
    "        print(\"High\")\n",
    "        return False\n",
    "    elif guess < letter:\n",
    "        print(\"Low\")\n",
    "        return False\n",
    "    elif guess == letter:\n",
    "        print(\"Correct\")\n",
    "        return True\n",
    "    else:\n",
    "        return False\n",
    "\n",
    "letter = \"t\"\n",
    "counter = 0\n",
    "while counter < 3:\n",
    "    guess = input(\"Enter a letter: \")\n",
    "    x = letter_guess(letter,guess)\n",
    "    if x == False:\n",
    "        counter += 1\n",
    "        continue\n",
    "    else:\n",
    "        print('You found it! The letter was \"'+letter+'\"')\n",
    "        break\n",
    "else:\n",
    "    print(\"Out of tries!\")"
   ]
  },
  {
   "cell_type": "markdown",
   "metadata": {},
   "source": [
    "### Pet Conversation\n",
    "**ask the user for a sentence about a pet and then reply**  \n",
    "- get user input in variable: about_pet\n",
    "- using a series of **if** statements respond with appropriate conversation\n",
    "  - check if \"dog\" is in the string about_pet (sample reply \"Ah, a dog\")\n",
    "  - check if \"cat\" is in the string about_pet\n",
    "  - check if 1 or more animal is in string about_pet\n",
    "- no need for **else**'s\n",
    "- finish with thanking for the story"
   ]
  },
  {
   "cell_type": "code",
   "execution_count": 3,
   "metadata": {},
   "outputs": [
    {
     "name": "stdout",
     "output_type": "stream",
     "text": [
      "Write a sentence about a pet.\n",
      "stinky monkey\n",
      "le monke\n"
     ]
    }
   ],
   "source": [
    "# [ ] complete pet conversation\n",
    "about_pet = input(\"Write a sentence about a pet.\\n\")\n",
    "\n",
    "if \"dog\" in about_pet:\n",
    "    print(\"Ah, a dog.\")\n",
    "elif \"cat\" in about_pet:\n",
    "    print(\"Oh! A cat.\")\n",
    "elif \"monkey\" in about_pet:\n",
    "    print(\"le monke\")\n"
   ]
  },
  {
   "cell_type": "markdown",
   "metadata": {
    "collapsed": true
   },
   "source": [
    "[Terms of use](http://go.microsoft.com/fwlink/?LinkID=206977) &nbsp; [Privacy & cookies](https://go.microsoft.com/fwlink/?LinkId=521839) &nbsp; © 2017 Microsoft"
   ]
  }
 ],
 "metadata": {
  "anaconda-cloud": {},
  "kernelspec": {
   "display_name": "Python 3",
   "language": "python",
   "name": "python3"
  },
  "language_info": {
   "codemirror_mode": {
    "name": "ipython",
    "version": 3
   },
   "file_extension": ".py",
   "mimetype": "text/x-python",
   "name": "python",
   "nbconvert_exporter": "python",
   "pygments_lexer": "ipython3",
   "version": "3.8.3"
  }
 },
 "nbformat": 4,
 "nbformat_minor": 1
}
