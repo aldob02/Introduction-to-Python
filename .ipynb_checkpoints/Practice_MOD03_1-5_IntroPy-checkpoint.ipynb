{
 "cells": [
  {
   "cell_type": "markdown",
   "metadata": {},
   "source": [
    "# 1-5 Intro Python Practice  \n",
    "## conditionals, type, and mathematics extended   \n",
    "&nbsp;\n",
    "<font size=\"5\" color=\"#00A0B2\"  face=\"verdana\"> <B>Student will be able to</B></font>  \n",
    "- code more than two choices using **`elif`** \n",
    "- gather numeric input using type casting  \n",
    "- perform subtraction, multiplication and division operations in code  &nbsp;  \n"
   ]
  },
  {
   "cell_type": "markdown",
   "metadata": {},
   "source": [
    "# &nbsp;  \n",
    "<font size=\"6\" color=\"#B24C00\"  face=\"verdana\"> <B>Tasks</B></font>"
   ]
  },
  {
   "cell_type": "markdown",
   "metadata": {},
   "source": [
    "### Rainbow colors\n",
    "ask for input of a favorite rainbow color first letter: ROYGBIV  \n",
    "\n",
    "Using `if`, `elif`, and `else`:  \n",
    "- print the color matching the letter  \n",
    "    - R = Red  \n",
    "    - O = Orange  \n",
    "    - Y = Yellow  \n",
    "    - G = Green\n",
    "    - B = Blue\n",
    "    - I = Indigo\n",
    "    - V = Violet\n",
    "    - else print \"no match\"\n"
   ]
  },
  {
   "cell_type": "code",
   "execution_count": 1,
   "metadata": {},
   "outputs": [
    {
     "name": "stdout",
     "output_type": "stream",
     "text": [
      "Enter the first letter of any color from the rainbow: o\n",
      "Orange\n"
     ]
    }
   ],
   "source": [
    "# [ ] complete rainbow colors\n",
    "color = input(\"Enter the first letter of any color from the rainbow: \")\n",
    "color = color.lower()\n",
    "\n",
    "if color == \"r\":\n",
    "    print(\"Red\")\n",
    "elif color == \"o\":\n",
    "    print(\"Orange\")\n",
    "elif color == \"y\":\n",
    "    print(\"Yellow\")\n",
    "elif color == \"g\":\n",
    "    print(\"Green\")\n",
    "elif color == \"b\":\n",
    "    print(\"Blue\")\n",
    "elif color == \"i\":\n",
    "    print(\"Indigo\")\n",
    "elif color == \"v\":\n",
    "    print(\"Violet\")\n",
    "    \n",
    "else:\n",
    "    print(\"No match\")\n",
    "    "
   ]
  },
  {
   "cell_type": "code",
   "execution_count": 6,
   "metadata": {},
   "outputs": [
    {
     "name": "stdout",
     "output_type": "stream",
     "text": [
      "Enter the first letter of any color from the rainbow: c\n",
      "No match\n"
     ]
    }
   ],
   "source": [
    "# [ ] make the code above into a function rainbow_color() that has a string parameter,\n",
    "def rainbow_color(color):\n",
    "    if color == \"r\":\n",
    "        return \"Red\"\n",
    "    elif color == \"o\":\n",
    "        return \"Orange\"\n",
    "    elif color == \"y\":\n",
    "        return \"Yellow\"\n",
    "    elif color == \"g\":\n",
    "        return \"Green\"\n",
    "    elif color == \"b\":\n",
    "        return \"Blue\"\n",
    "    elif color == \"i\":\n",
    "        return \"Indigo\"\n",
    "    elif color == \"v\":\n",
    "        return \"Violet\"\n",
    "    else:\n",
    "        return \"No match\"\n",
    "    \n",
    "# get input and call the function and return the matching color as a string or \"no match\" message.\n",
    "color =  input(\"Enter the first letter of any color from the rainbow: \")\n",
    "# Call the function and print the return string.\n",
    "print(rainbow_color(color))\n"
   ]
  },
  {
   "cell_type": "markdown",
   "metadata": {},
   "source": [
    "# &nbsp;  \n",
    "**Create function age_20() that adds or subtracts 20 from your age for a return value based on current age** (use `if`) \n",
    "- call the funtion with user input and then use the return value in a sentence  \n",
    "example `age_20(25)` returns **5**: \n",
    "> \"5 years old, 20 years difference from now\""
   ]
  },
  {
   "cell_type": "code",
   "execution_count": null,
   "metadata": {},
   "outputs": [],
   "source": [
    "# [ ] complete age_20()\n",
    "def age_20(age):\n",
    "    if age <= 20:\n",
    "        var = age + 20\n",
    "        return var\n",
    "    else:\n",
    "        v = age - 20\n",
    "        return var\n"
   ]
  },
  {
   "cell_type": "markdown",
   "metadata": {},
   "source": [
    "**create a function rainbow_or_age that takes a string argument**\n",
    "- if argument is a digit return the value of calling age_20() with the str value cast as **`int`** \n",
    "- if argument is an alphabetical character return the value of calling rainbow_color() with the str\n",
    "- if neither return FALSE"
   ]
  },
  {
   "cell_type": "code",
   "execution_count": null,
   "metadata": {},
   "outputs": [],
   "source": [
    "# [ ]  create rainbow_or_age()\n"
   ]
  },
  {
   "cell_type": "code",
   "execution_count": null,
   "metadata": {},
   "outputs": [],
   "source": [
    "# [ ]  add 2 numbers from input using a cast to integer and display the answer \n",
    "\n"
   ]
  },
  {
   "cell_type": "code",
   "execution_count": null,
   "metadata": {},
   "outputs": [],
   "source": [
    "# [ ] Multiply 2 numbers from input using cast and save the answer as part of a string \"the answer is...\"\n",
    "# display the string using print\n",
    "\n"
   ]
  },
  {
   "cell_type": "code",
   "execution_count": null,
   "metadata": {},
   "outputs": [],
   "source": [
    "# [ ] get input of 2 numbers and display the average: (num1 + num2) divided by 2\n",
    "\n"
   ]
  },
  {
   "cell_type": "code",
   "execution_count": null,
   "metadata": {},
   "outputs": [],
   "source": [
    "# [ ] get input of 2 numbers and subtract the largest from the smallest (use an if statement to see which is larger)\n",
    "# show the answer\n",
    "\n"
   ]
  },
  {
   "cell_type": "code",
   "execution_count": null,
   "metadata": {},
   "outputs": [],
   "source": [
    "# [ ] Divide a larger number by a smaller number and print the integer part of the result\n",
    "# don't divide by zero! if a zero is input make the result zero\n",
    "# [ ] cast the answer to an integer to cut off the decimals and print the result\n",
    "\n"
   ]
  },
  {
   "cell_type": "markdown",
   "metadata": {},
   "source": [
    "[Terms of use](http://go.microsoft.com/fwlink/?LinkID=206977) &nbsp; [Privacy & cookies](https://go.microsoft.com/fwlink/?LinkId=521839) &nbsp; © 2017 Microsoft"
   ]
  }
 ],
 "metadata": {
  "anaconda-cloud": {},
  "kernelspec": {
   "display_name": "Python 3",
   "language": "python",
   "name": "python3"
  },
  "language_info": {
   "codemirror_mode": {
    "name": "ipython",
    "version": 3
   },
   "file_extension": ".py",
   "mimetype": "text/x-python",
   "name": "python",
   "nbconvert_exporter": "python",
   "pygments_lexer": "ipython3",
   "version": "3.8.3"
  }
 },
 "nbformat": 4,
 "nbformat_minor": 1
}
