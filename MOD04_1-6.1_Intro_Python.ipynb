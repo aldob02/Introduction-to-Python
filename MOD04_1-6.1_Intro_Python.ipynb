{
 "cells": [
  {
   "cell_type": "markdown",
   "metadata": {},
   "source": [
    "# 1-6.1 Intro Python\n",
    "## Nested Conditionals\n",
    "-  Nested Conditionals  \n",
    "- Escape Sequence print formatting \"\\\\\"\n",
    "\n",
    "><font size=\"5\" color=\"#00A0B2\"  face=\"verdana\"> <B>Student will be able to</B></font>\n",
    "- create nested conditional logic in code  \n",
    "- format print output using escape \"\\\\\" sequence "
   ]
  },
  {
   "cell_type": "markdown",
   "metadata": {},
   "source": [
    "# &nbsp;\n",
    "<font size=\"6\" color=\"#00A0B2\"  face=\"verdana\"> <B>Concepts</B></font>\n",
    "## nested conditionals\n",
    "# Video: Unit1_Section6.1-nested-conditionals.mp4\n",
    "### nested conditionals\n",
    "**if**  \n",
    "**&nbsp;&nbsp;&nbsp;&nbsp;if**  \n",
    "**&nbsp;&nbsp;&nbsp;&nbsp;&nbsp;&nbsp;&nbsp;&nbsp;if**  \n",
    "**&nbsp;&nbsp;&nbsp;&nbsp;&nbsp;&nbsp;&nbsp;&nbsp;else**  \n",
    "**&nbsp;&nbsp;&nbsp;&nbsp;else**  \n",
    "**else**  \n",
    "\n",
    "### Making a sandwich\n",
    "Taking a sandwich order starts with sandwich choices:\n",
    "> **Cheese or Veggie special?**  \n",
    "if the response is **\"Cheese\"** \"nest\" a sub ask:  \n",
    ">> **Manchego or Cheddar?**  \n",
    "  \n",
    "  \n",
    "|Nested &nbsp;**`if`**&nbsp; statement  flowchart  |\n",
    "| ------ | \n",
    "| ![Image of sandwich order flowchart](https://iajupyterprodblobs.blob.core.windows.net/imagecontainer/flowchart_sandwich.png)   | \n"
   ]
  },
  {
   "cell_type": "markdown",
   "metadata": {},
   "source": [
    "# &nbsp;\n",
    "<font size=\"6\" color=\"#00A0B2\"  face=\"verdana\"> <B>Examples</B></font>\n",
    "> ***TIP:*** click in input box before typing input "
   ]
  },
  {
   "cell_type": "code",
   "execution_count": 1,
   "metadata": {},
   "outputs": [
    {
     "name": "stdout",
     "output_type": "stream",
     "text": [
      "\"c\" for Cheese or \"v\" for Veggie Special: c\n",
      "\"c\" for Cheddar or \"m\" for Manchego: c\n",
      "Here is your Cheddar Cheese sandwich\n"
     ]
    }
   ],
   "source": [
    "# simplified example\n",
    "# [ ] review the code then run and following the flowchart paths\n",
    "\n",
    "# ***TIP:*** click in input box before typing\n",
    "\n",
    "sandwich_type = input('\"c\" for Cheese or \"v\" for Veggie Special: ')\n",
    "\n",
    "if sandwich_type.lower() == \"c\":\n",
    "    # select cheese type\n",
    "    cheese_type = input('\"c\" for Cheddar or \"m\" for Manchego: ')\n",
    "    \n",
    "    if cheese_type.lower() == \"c\":\n",
    "        print(\"Here is your Cheddar Cheese sandwich\")\n",
    "    else:\n",
    "        print(\"Here is your Manchego Cheese sandwich\") \n",
    "\n",
    "else:\n",
    "    print(\"Here is your Veggie Special\")"
   ]
  },
  {
   "cell_type": "code",
   "execution_count": 2,
   "metadata": {},
   "outputs": [
    {
     "name": "stdout",
     "output_type": "stream",
     "text": [
      "Hi, welcome to the sandwich shop.  Please select a sandwich.\n",
      "\"c\" for Cheese or \"v\" for Veggie Special: v\n",
      "\n",
      "Here is your Veggie Special. Thank you.\n",
      "\n",
      "Goodbye!\n"
     ]
    }
   ],
   "source": [
    "# full example: handling some invalid input and elif statement\n",
    "# [ ] review the code then run following the flowchart paths including **invalid responses** like \"xyz123\"\n",
    "\n",
    "# ***TIP:*** click in input box before typing\n",
    "\n",
    "print(\"Hi, welcome to the sandwich shop.  Please select a sandwich.\")\n",
    "sandwich_type = input('\"c\" for Cheese or \"v\" for Veggie Special: ')\n",
    "# select sandwich type sandwich_type = input('\"c\" for Cheese or \"v\" for Veggie Special: ')\n",
    "print()\n",
    "    \n",
    "if sandwich_type.lower() == \"c\":\n",
    "    # select cheese type\n",
    "    print(\"Please select a cheese.\")\n",
    "    cheese_type = input('\"c\" for Cheddar or \"m\" for Manchego: ')\n",
    "    print()   # this command enter space b/w 2 sentences\n",
    "    \n",
    "    if cheese_type.lower() == \"c\":\n",
    "        print(\"Here is your Cheddar Cheese sandwich.  Thank you.\")\n",
    "    elif cheese_type.lower() == \"m\":\n",
    "        print(\"Here is your Manchego Cheese sandwich.  Thank you.\") \n",
    "    else:\n",
    "        print(\"Sorry, we don't have\", cheese_type, \"choice today.\")\n",
    "\n",
    "elif sandwich_type.lower() == \"v\":\n",
    "    print(\"Here is your Veggie Special. Thank you.\")\n",
    "        \n",
    "else:\n",
    "    print(\"Sorry, we don't have\", sandwich_type, \"choice today.\")\n",
    "print()\n",
    "print(\"Goodbye!\")\n"
   ]
  },
  {
   "cell_type": "markdown",
   "metadata": {},
   "source": [
    "# &nbsp;\n",
    "<font size=\"6\" color=\"#B24C00\"  face=\"verdana\"> <B>Task 1</B></font>\n",
    "## Nested `if` \n",
    "### [ ] Program: Say \"Hello\"\n",
    "- using nested **`if`**\n",
    "  \n",
    "|Say \"Hello\" flowchart  |\n",
    "| ------ | \n",
    "|  ![Image: Say \"Hello\" flowchart](https://iajupyterprodblobs.blob.core.windows.net/imagecontainer/flowchart_say_hello.png) | "
   ]
  },
  {
   "cell_type": "code",
   "execution_count": 1,
   "metadata": {},
   "outputs": [
    {
     "name": "stdout",
     "output_type": "stream",
     "text": [
      "Say \"Hello\" y/n? y\n",
      "'n' for short greeting, 'y' for full greeting :n\n",
      "Hi\n",
      "\n"
     ]
    }
   ],
   "source": [
    "# [ ] Say \"Hello\" with nested if\n",
    "# [ ] Challenge: handle input other than y/n\n",
    "\n",
    "greet = input('Say \"Hello\" y/n? ')\n",
    "      \n",
    "if greet.lower() == \"y\":\n",
    "    full_short_greet = input(\"'n' for short greeting, 'y' for full greeting :\")\n",
    "    if full_short_greet.lower() == \"n\":\n",
    "        print(\"Hi\")\n",
    "    else:\n",
    "        print('Hello')\n",
    "    print()\n",
    "                  \n",
    "else:\n",
    "    print(\"(friendly nod)\")"
   ]
  },
  {
   "cell_type": "markdown",
   "metadata": {},
   "source": [
    "# &nbsp;\n",
    "<font size=\"6\" color=\"#B24C00\"  face=\"verdana\"> <B>Task 2</B></font>\n",
    "## Nested `if` - testing for `False`\n",
    "### Program:  [ ] 3 Guesses\n",
    "- use nested if statements complete the flowchart code\n",
    "- create a **`birds`** string variable with the names of 1, 2, 3 or more birds to make it easier\n",
    "- get **`bird_guess`** input and use **`bird_guess in bird_names`** to generate Boolean True/False\n",
    "- if the the guess is wrong (**`False`**) create a sub test until the user has had 3 guesses\n",
    "  \n",
    "|3 Guesses (\"Guess the Bird\") flowchart  |\n",
    "| ------ | \n",
    "| ![Image of Guess the Bird flowchart](https://iajupyterprodblobs.blob.core.windows.net/imagecontainer/flowchart_guess_the_bird.png)   | "
   ]
  },
  {
   "cell_type": "code",
   "execution_count": null,
   "metadata": {},
   "outputs": [],
   "source": [
    "# [ ] Create the \"Guess the bird\" program \n",
    "# Nested if - testing for False\n",
    "    # use nested if statements complete the flowchart code\n",
    "    # create a birds string variable with the names of 1, 2, 3 or more birds to make it easier\n",
    "    # get bird_guess input and use bird_guess in bird_names to generate Boolean True/False\n",
    "    # if the the guess is wrong (False) create a sub test until the user has had 3 guesses\n",
    "\n",
    "\n",
    "bird_names = (\"LONI\")\n",
    "bird_guess = input(\"Pick a name: LONI, PONI, CONI, GONI, HONI\\t \")\n",
    "\n",
    "if bird_guess in bird_names:\n",
    "    print(\"You found it first try!\")\n",
    "else:\n",
    "    print('Two tries left.')\n",
    "    bird_guess = input(\"Pick a name: LONI, PONI, CONI, GONI, HONI\\t\")\n",
    "    if bird_guess in bird_names:\n",
    "        print(\"Good job! Got it on the second try!\")\n",
    "        print() \n",
    "    else:\n",
    "        print('Last try!')\n",
    "        bird_guess = input(\"Pick a name: LONI, PONI, CONI, GONI, HONI\\t\")\n",
    "        if bird_guess in bird_names:\n",
    "            print(\"Found it on the third try!\")\n",
    "        else:\n",
    "            print(\"Out of tries.\")"
   ]
  },
  {
   "cell_type": "markdown",
   "metadata": {},
   "source": [
    "[Terms of use](http://go.microsoft.com/fwlink/?LinkID=206977) &nbsp; [Privacy & cookies](https://go.microsoft.com/fwlink/?LinkId=521839) &nbsp; © 2017 Microsoft"
   ]
  },
  {
   "cell_type": "code",
   "execution_count": null,
   "metadata": {},
   "outputs": [],
   "source": [
    "birds= (\"1, 2, 3\")\n",
    "birds_select = input(\" choose a bird : 1 or 2 or 3 \")\n",
    "\n",
    "if birds_select in birds: \n",
    "    color_br1 = input( \"Pick a color for the bird 1 : 'r' = red, 'b' = blue, w = white :\") \n",
    "    if color_br1 == \"w\":\n",
    "        print(\"Great! Indeed the bird is white\")\n",
    "        print()\n",
    "    else:\n",
    "        print(\"Sorry, try again\")\n",
    "    \n",
    "    #attempt2=input('What color is the bird ?')\n",
    "    color_br1 = input( \"Pick a color for the bird 1 : 'r' = red, 'b' = blue, w = white :\") \n",
    "    if color_br1 == \"w\":\n",
    "        print(\"Great! Indeed the bird is white\")    \n",
    "    else:\n",
    "        print(\"Sorry, try for the last time\")\n",
    "    \n",
    "    #attempt3=input('What color is the bird ?')\n",
    "    color_br1 = input( \"Pick a color for the bird 1 : 'r' = red, 'b' = blue, w = white :\") \n",
    "    if attemp3 == \"w\":\n",
    "        print(\"Great! Indeed the bird is White\")    \n",
    "    else:\n",
    "        print(\"Sorry, out of tries\")\n",
    "                \n",
    "    print()"
   ]
  },
  {
   "cell_type": "code",
   "execution_count": 5,
   "metadata": {},
   "outputs": [
    {
     "name": "stdout",
     "output_type": "stream",
     "text": [
      " choose a bird : 1 or 2 or 3 \n",
      "Pick a color for the bird 1 : 'r' = red, 'b' = blue, w = white, o = other :o\n",
      "Sorry, try again\n",
      "Pick a color for the bird 1 : 'r' = red, 'b' = blue, w = white, o = other :w\n",
      "Great! Indeed the bird is white\n",
      "\n"
     ]
    }
   ],
   "source": [
    "# the for or while loop is used when you want to do same thing many times in programming \n",
    "birds= (\"1, 2, 3\")\n",
    "birds_select = input(\" choose a bird : 1 or 2 or 3 \")\n",
    "attempts = 0\n",
    "\n",
    "# attempt1\n",
    "while attempts < 3: \n",
    "    color_br1 = input( \"Pick a color for the bird 1 : 'r' = red, 'b' = blue, w = white, o = other :\") \n",
    "    if color_br1 == \"w\":\n",
    "        print(\"Great! Indeed the bird is white\")\n",
    "        print()\n",
    "        break\n",
    "    else:\n",
    "        print(\"Sorry, try again\")\n",
    "        attempts += 1\n"
   ]
  },
  {
   "cell_type": "code",
   "execution_count": null,
   "metadata": {},
   "outputs": [],
   "source": [
    "bird_names = (\"LONI\")\n",
    "bird_guess = input(\" Pick a name: LONI, PONI, CONI, GONI, HONI: \")\n",
    "\n",
    "if bird_guess in bird_names:\n",
    "    print(\"yes\")\n",
    "    print(\"1st Try\")\n",
    "else:\n",
    "    bird_guess = input(\"Pick a name: LONI, PONI, CONI, GONI, HONI:\")\n",
    "    if bird_guess in bird_names:\n",
    "        print(\"yes\")\n",
    "        print(\"2nd Try\")\n",
    "     \n",
    "    else:\n",
    "        bird_guess = input(\"Pick a name: LONI, PONI, CONI, GONI, HONI:\")\n",
    "        if bird_guess in bird_names:\n",
    "            print(\"yes\")\n",
    "            print(\"3rd Try\")\n",
    "        else:\n",
    "            print(\"sorry, out of tries\")\n",
    "    "
   ]
  }
 ],
 "metadata": {
  "anaconda-cloud": {},
  "kernelspec": {
   "display_name": "Python 3",
   "language": "python",
   "name": "python3"
  },
  "language_info": {
   "codemirror_mode": {
    "name": "ipython",
    "version": 3
   },
   "file_extension": ".py",
   "mimetype": "text/x-python",
   "name": "python",
   "nbconvert_exporter": "python",
   "pygments_lexer": "ipython3",
   "version": "3.8.3"
  }
 },
 "nbformat": 4,
 "nbformat_minor": 1
}
